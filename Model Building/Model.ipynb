{
  "cells": [
    {
      "cell_type": "markdown",
      "metadata": {
        "id": "CDRTCR3Uj_91"
      },
      "source": [
        "# Model Building"
      ]
    },
    {
      "cell_type": "markdown",
      "metadata": {
        "id": "mpStk9g9j_95"
      },
      "source": [
        "## Attaching Resources"
      ]
    },
    {
      "cell_type": "markdown",
      "metadata": {
        "id": "DxLRc_W4j_96"
      },
      "source": [
        "### Importing Necessary Libraries"
      ]
    },
    {
      "cell_type": "code",
      "execution_count": 1,
      "metadata": {
        "colab": {
          "base_uri": "https://localhost:8080/",
          "height": 34
        },
        "id": "_02OO1sjj_96",
        "outputId": "3735efd1-8824-40cd-bdda-457b48c7318c"
      },
      "outputs": [
        {
          "data": {
            "text/plain": [
              "<Figure size 3750x2000 with 0 Axes>"
            ]
          },
          "metadata": {},
          "output_type": "display_data"
        }
      ],
      "source": [
        "import numpy as np\n",
        "import pandas as pd\n",
        "import matplotlib.pyplot as plt\n",
        "import seaborn as sns\n",
        "from sklearn.model_selection import KFold,cross_val_score,train_test_split\n",
        "from sklearn.linear_model import LogisticRegression\n",
        "from sklearn.neighbors import KNeighborsClassifier\n",
        "from sklearn.tree import DecisionTreeClassifier\n",
        "from sklearn.ensemble import AdaBoostClassifier,RandomForestClassifier,GradientBoostingClassifier,VotingClassifier,StackingClassifier, BaggingClassifier\n",
        "from sklearn.svm import SVC\n",
        "import pickle\n",
        "\n",
        "from sklearn.metrics import classification_report\n",
        "from sklearn.model_selection import GridSearchCV\n",
        "\n",
        "import warnings\n",
        "\n",
        "warnings.filterwarnings('ignore')\n",
        "plt.rcParams['figure.figsize'] = (15,8)\n",
        "plt.rcParams['figure.dpi'] = 250\n",
        "sns.set_style(style='darkgrid')\n",
        "plt.tight_layout()\n",
        "%matplotlib inline"
      ]
    },
    {
      "cell_type": "markdown",
      "metadata": {
        "id": "ePCfomkFj_98"
      },
      "source": [
        "### Adding Dataset"
      ]
    },
    {
      "cell_type": "code",
      "execution_count": 2,
      "metadata": {
        "colab": {
          "base_uri": "https://localhost:8080/",
          "height": 424
        },
        "id": "MvDKZm-Nj_98",
        "outputId": "bf24a261-f44f-4976-9906-29bfcd642b0e"
      },
      "outputs": [
        {
          "data": {
            "text/html": [
              "<div>\n",
              "<style scoped>\n",
              "    .dataframe tbody tr th:only-of-type {\n",
              "        vertical-align: middle;\n",
              "    }\n",
              "\n",
              "    .dataframe tbody tr th {\n",
              "        vertical-align: top;\n",
              "    }\n",
              "\n",
              "    .dataframe thead th {\n",
              "        text-align: right;\n",
              "    }\n",
              "</style>\n",
              "<table border=\"1\" class=\"dataframe\">\n",
              "  <thead>\n",
              "    <tr style=\"text-align: right;\">\n",
              "      <th></th>\n",
              "      <th>Time</th>\n",
              "      <th>V1</th>\n",
              "      <th>V2</th>\n",
              "      <th>V3</th>\n",
              "      <th>V4</th>\n",
              "      <th>V5</th>\n",
              "      <th>V6</th>\n",
              "      <th>V7</th>\n",
              "      <th>V8</th>\n",
              "      <th>V9</th>\n",
              "      <th>...</th>\n",
              "      <th>V20</th>\n",
              "      <th>V21</th>\n",
              "      <th>V22</th>\n",
              "      <th>V23</th>\n",
              "      <th>V24</th>\n",
              "      <th>V25</th>\n",
              "      <th>V26</th>\n",
              "      <th>V27</th>\n",
              "      <th>V28</th>\n",
              "      <th>Amount</th>\n",
              "    </tr>\n",
              "  </thead>\n",
              "  <tbody>\n",
              "    <tr>\n",
              "      <th>0</th>\n",
              "      <td>-1.318367</td>\n",
              "      <td>-0.649840</td>\n",
              "      <td>-0.251797</td>\n",
              "      <td>1.071645</td>\n",
              "      <td>0.718537</td>\n",
              "      <td>-0.167296</td>\n",
              "      <td>0.253946</td>\n",
              "      <td>0.318079</td>\n",
              "      <td>0.088429</td>\n",
              "      <td>-0.492360</td>\n",
              "      <td>...</td>\n",
              "      <td>0.384736</td>\n",
              "      <td>0.059927</td>\n",
              "      <td>0.701642</td>\n",
              "      <td>-0.151515</td>\n",
              "      <td>0.092097</td>\n",
              "      <td>0.026428</td>\n",
              "      <td>-0.406467</td>\n",
              "      <td>0.303931</td>\n",
              "      <td>-0.094906</td>\n",
              "      <td>0.480088</td>\n",
              "    </tr>\n",
              "    <tr>\n",
              "      <th>1</th>\n",
              "      <td>-1.318367</td>\n",
              "      <td>0.822546</td>\n",
              "      <td>-0.009900</td>\n",
              "      <td>-0.422759</td>\n",
              "      <td>0.097936</td>\n",
              "      <td>0.138683</td>\n",
              "      <td>-0.157271</td>\n",
              "      <td>0.063152</td>\n",
              "      <td>0.077636</td>\n",
              "      <td>-0.998637</td>\n",
              "      <td>...</td>\n",
              "      <td>-0.159752</td>\n",
              "      <td>-0.180735</td>\n",
              "      <td>-0.773467</td>\n",
              "      <td>0.275448</td>\n",
              "      <td>-0.600963</td>\n",
              "      <td>0.116422</td>\n",
              "      <td>0.161136</td>\n",
              "      <td>-0.061015</td>\n",
              "      <td>0.045717</td>\n",
              "      <td>-0.346933</td>\n",
              "    </tr>\n",
              "    <tr>\n",
              "      <th>2</th>\n",
              "      <td>-1.318244</td>\n",
              "      <td>-0.649001</td>\n",
              "      <td>-1.156332</td>\n",
              "      <td>0.590421</td>\n",
              "      <td>0.052309</td>\n",
              "      <td>-0.293945</td>\n",
              "      <td>1.264052</td>\n",
              "      <td>0.759926</td>\n",
              "      <td>0.206690</td>\n",
              "      <td>-2.028202</td>\n",
              "      <td>...</td>\n",
              "      <td>0.849499</td>\n",
              "      <td>0.368838</td>\n",
              "      <td>1.496474</td>\n",
              "      <td>1.904821</td>\n",
              "      <td>-1.196328</td>\n",
              "      <td>-1.036280</td>\n",
              "      <td>-0.316341</td>\n",
              "      <td>-0.179734</td>\n",
              "      <td>-0.247012</td>\n",
              "      <td>1.769279</td>\n",
              "    </tr>\n",
              "    <tr>\n",
              "      <th>3</th>\n",
              "      <td>-1.318244</td>\n",
              "      <td>-0.422758</td>\n",
              "      <td>-0.332049</td>\n",
              "      <td>0.602897</td>\n",
              "      <td>-0.777207</td>\n",
              "      <td>0.084662</td>\n",
              "      <td>0.846383</td>\n",
              "      <td>0.316486</td>\n",
              "      <td>0.309696</td>\n",
              "      <td>-1.923850</td>\n",
              "      <td>...</td>\n",
              "      <td>-0.395821</td>\n",
              "      <td>-0.044465</td>\n",
              "      <td>0.262954</td>\n",
              "      <td>-0.312504</td>\n",
              "      <td>-2.024873</td>\n",
              "      <td>1.235098</td>\n",
              "      <td>-0.465593</td>\n",
              "      <td>0.122573</td>\n",
              "      <td>0.229403</td>\n",
              "      <td>0.333067</td>\n",
              "    </tr>\n",
              "    <tr>\n",
              "      <th>4</th>\n",
              "      <td>-1.318120</td>\n",
              "      <td>-0.533526</td>\n",
              "      <td>0.426592</td>\n",
              "      <td>0.448860</td>\n",
              "      <td>0.067827</td>\n",
              "      <td>-0.220200</td>\n",
              "      <td>-0.022690</td>\n",
              "      <td>0.600981</td>\n",
              "      <td>-0.204673</td>\n",
              "      <td>-0.121202</td>\n",
              "      <td>...</td>\n",
              "      <td>0.651684</td>\n",
              "      <td>0.070223</td>\n",
              "      <td>1.539285</td>\n",
              "      <td>-0.205921</td>\n",
              "      <td>0.218755</td>\n",
              "      <td>-0.752928</td>\n",
              "      <td>0.839351</td>\n",
              "      <td>0.523766</td>\n",
              "      <td>0.833505</td>\n",
              "      <td>0.031877</td>\n",
              "    </tr>\n",
              "    <tr>\n",
              "      <th>...</th>\n",
              "      <td>...</td>\n",
              "      <td>...</td>\n",
              "      <td>...</td>\n",
              "      <td>...</td>\n",
              "      <td>...</td>\n",
              "      <td>...</td>\n",
              "      <td>...</td>\n",
              "      <td>...</td>\n",
              "      <td>...</td>\n",
              "      <td>...</td>\n",
              "      <td>...</td>\n",
              "      <td>...</td>\n",
              "      <td>...</td>\n",
              "      <td>...</td>\n",
              "      <td>...</td>\n",
              "      <td>...</td>\n",
              "      <td>...</td>\n",
              "      <td>...</td>\n",
              "      <td>...</td>\n",
              "      <td>...</td>\n",
              "      <td>...</td>\n",
              "    </tr>\n",
              "    <tr>\n",
              "      <th>14424</th>\n",
              "      <td>1.845252</td>\n",
              "      <td>0.957465</td>\n",
              "      <td>-1.098962</td>\n",
              "      <td>0.029717</td>\n",
              "      <td>-1.110164</td>\n",
              "      <td>-1.469192</td>\n",
              "      <td>-0.571545</td>\n",
              "      <td>-1.035085</td>\n",
              "      <td>0.075523</td>\n",
              "      <td>-2.120921</td>\n",
              "      <td>...</td>\n",
              "      <td>-0.725221</td>\n",
              "      <td>0.070325</td>\n",
              "      <td>0.665691</td>\n",
              "      <td>0.121917</td>\n",
              "      <td>0.824620</td>\n",
              "      <td>0.254557</td>\n",
              "      <td>-0.298593</td>\n",
              "      <td>0.055264</td>\n",
              "      <td>0.055173</td>\n",
              "      <td>-0.250626</td>\n",
              "    </tr>\n",
              "    <tr>\n",
              "      <th>14425</th>\n",
              "      <td>1.845623</td>\n",
              "      <td>0.894525</td>\n",
              "      <td>-0.789691</td>\n",
              "      <td>0.261510</td>\n",
              "      <td>-0.577485</td>\n",
              "      <td>-1.224903</td>\n",
              "      <td>-0.328953</td>\n",
              "      <td>-0.921469</td>\n",
              "      <td>0.157094</td>\n",
              "      <td>-1.003024</td>\n",
              "      <td>...</td>\n",
              "      <td>-0.017341</td>\n",
              "      <td>0.497650</td>\n",
              "      <td>1.959508</td>\n",
              "      <td>-0.077909</td>\n",
              "      <td>0.967058</td>\n",
              "      <td>0.609330</td>\n",
              "      <td>-0.198231</td>\n",
              "      <td>0.072936</td>\n",
              "      <td>0.044811</td>\n",
              "      <td>-0.355038</td>\n",
              "    </tr>\n",
              "    <tr>\n",
              "      <th>14426</th>\n",
              "      <td>1.845869</td>\n",
              "      <td>-0.469927</td>\n",
              "      <td>0.351015</td>\n",
              "      <td>0.252557</td>\n",
              "      <td>-0.653213</td>\n",
              "      <td>0.932479</td>\n",
              "      <td>0.538178</td>\n",
              "      <td>0.456033</td>\n",
              "      <td>0.359660</td>\n",
              "      <td>-0.975447</td>\n",
              "      <td>...</td>\n",
              "      <td>-0.682781</td>\n",
              "      <td>0.023443</td>\n",
              "      <td>-0.063975</td>\n",
              "      <td>0.234277</td>\n",
              "      <td>-1.785624</td>\n",
              "      <td>-1.930880</td>\n",
              "      <td>-0.080771</td>\n",
              "      <td>-0.369420</td>\n",
              "      <td>0.523902</td>\n",
              "      <td>-0.341923</td>\n",
              "    </tr>\n",
              "    <tr>\n",
              "      <th>14427</th>\n",
              "      <td>1.845993</td>\n",
              "      <td>0.800951</td>\n",
              "      <td>-0.392282</td>\n",
              "      <td>-0.590623</td>\n",
              "      <td>-0.425395</td>\n",
              "      <td>-0.174530</td>\n",
              "      <td>-0.543430</td>\n",
              "      <td>0.132672</td>\n",
              "      <td>0.019081</td>\n",
              "      <td>-0.795147</td>\n",
              "      <td>...</td>\n",
              "      <td>-0.177948</td>\n",
              "      <td>0.071751</td>\n",
              "      <td>-0.027415</td>\n",
              "      <td>0.033544</td>\n",
              "      <td>0.103274</td>\n",
              "      <td>0.145451</td>\n",
              "      <td>2.460815</td>\n",
              "      <td>-0.384152</td>\n",
              "      <td>-0.085920</td>\n",
              "      <td>-0.081203</td>\n",
              "    </tr>\n",
              "    <tr>\n",
              "      <th>14428</th>\n",
              "      <td>1.846240</td>\n",
              "      <td>0.897514</td>\n",
              "      <td>-0.569719</td>\n",
              "      <td>-0.781421</td>\n",
              "      <td>-1.400639</td>\n",
              "      <td>0.205191</td>\n",
              "      <td>0.360769</td>\n",
              "      <td>-0.176359</td>\n",
              "      <td>0.174472</td>\n",
              "      <td>0.477591</td>\n",
              "      <td>...</td>\n",
              "      <td>-0.159292</td>\n",
              "      <td>-0.282420</td>\n",
              "      <td>-0.784388</td>\n",
              "      <td>-0.275485</td>\n",
              "      <td>-2.863213</td>\n",
              "      <td>1.112777</td>\n",
              "      <td>-0.193804</td>\n",
              "      <td>0.028937</td>\n",
              "      <td>-0.070181</td>\n",
              "      <td>-0.306463</td>\n",
              "    </tr>\n",
              "  </tbody>\n",
              "</table>\n",
              "<p>14429 rows × 30 columns</p>\n",
              "</div>"
            ],
            "text/plain": [
              "           Time        V1        V2        V3        V4        V5        V6  \\\n",
              "0     -1.318367 -0.649840 -0.251797  1.071645  0.718537 -0.167296  0.253946   \n",
              "1     -1.318367  0.822546 -0.009900 -0.422759  0.097936  0.138683 -0.157271   \n",
              "2     -1.318244 -0.649001 -1.156332  0.590421  0.052309 -0.293945  1.264052   \n",
              "3     -1.318244 -0.422758 -0.332049  0.602897 -0.777207  0.084662  0.846383   \n",
              "4     -1.318120 -0.533526  0.426592  0.448860  0.067827 -0.220200 -0.022690   \n",
              "...         ...       ...       ...       ...       ...       ...       ...   \n",
              "14424  1.845252  0.957465 -1.098962  0.029717 -1.110164 -1.469192 -0.571545   \n",
              "14425  1.845623  0.894525 -0.789691  0.261510 -0.577485 -1.224903 -0.328953   \n",
              "14426  1.845869 -0.469927  0.351015  0.252557 -0.653213  0.932479  0.538178   \n",
              "14427  1.845993  0.800951 -0.392282 -0.590623 -0.425395 -0.174530 -0.543430   \n",
              "14428  1.846240  0.897514 -0.569719 -0.781421 -1.400639  0.205191  0.360769   \n",
              "\n",
              "             V7        V8        V9  ...       V20       V21       V22  \\\n",
              "0      0.318079  0.088429 -0.492360  ...  0.384736  0.059927  0.701642   \n",
              "1      0.063152  0.077636 -0.998637  ... -0.159752 -0.180735 -0.773467   \n",
              "2      0.759926  0.206690 -2.028202  ...  0.849499  0.368838  1.496474   \n",
              "3      0.316486  0.309696 -1.923850  ... -0.395821 -0.044465  0.262954   \n",
              "4      0.600981 -0.204673 -0.121202  ...  0.651684  0.070223  1.539285   \n",
              "...         ...       ...       ...  ...       ...       ...       ...   \n",
              "14424 -1.035085  0.075523 -2.120921  ... -0.725221  0.070325  0.665691   \n",
              "14425 -0.921469  0.157094 -1.003024  ... -0.017341  0.497650  1.959508   \n",
              "14426  0.456033  0.359660 -0.975447  ... -0.682781  0.023443 -0.063975   \n",
              "14427  0.132672  0.019081 -0.795147  ... -0.177948  0.071751 -0.027415   \n",
              "14428 -0.176359  0.174472  0.477591  ... -0.159292 -0.282420 -0.784388   \n",
              "\n",
              "            V23       V24       V25       V26       V27       V28    Amount  \n",
              "0     -0.151515  0.092097  0.026428 -0.406467  0.303931 -0.094906  0.480088  \n",
              "1      0.275448 -0.600963  0.116422  0.161136 -0.061015  0.045717 -0.346933  \n",
              "2      1.904821 -1.196328 -1.036280 -0.316341 -0.179734 -0.247012  1.769279  \n",
              "3     -0.312504 -2.024873  1.235098 -0.465593  0.122573  0.229403  0.333067  \n",
              "4     -0.205921  0.218755 -0.752928  0.839351  0.523766  0.833505  0.031877  \n",
              "...         ...       ...       ...       ...       ...       ...       ...  \n",
              "14424  0.121917  0.824620  0.254557 -0.298593  0.055264  0.055173 -0.250626  \n",
              "14425 -0.077909  0.967058  0.609330 -0.198231  0.072936  0.044811 -0.355038  \n",
              "14426  0.234277 -1.785624 -1.930880 -0.080771 -0.369420  0.523902 -0.341923  \n",
              "14427  0.033544  0.103274  0.145451  2.460815 -0.384152 -0.085920 -0.081203  \n",
              "14428 -0.275485 -2.863213  1.112777 -0.193804  0.028937 -0.070181 -0.306463  \n",
              "\n",
              "[14429 rows x 30 columns]"
            ]
          },
          "execution_count": 2,
          "metadata": {},
          "output_type": "execute_result"
        }
      ],
      "source": [
        "x = pd.read_csv('x.csv')\n",
        "y = pd.read_csv('y.csv')\n",
        "\n",
        "x"
      ]
    },
    {
      "cell_type": "markdown",
      "metadata": {
        "id": "Yd7EfDZFj_9_"
      },
      "source": [
        "## K-fold Cross Validation"
      ]
    },
    {
      "cell_type": "code",
      "execution_count": 3,
      "metadata": {
        "colab": {
          "base_uri": "https://localhost:8080/"
        },
        "id": "C27QlkWKj_9_",
        "outputId": "3a6fa137-550d-44a2-d268-30c639800b6c"
      },
      "outputs": [
        {
          "name": "stdout",
          "output_type": "stream",
          "text": [
            "Creating Model With LogisticRegression()\n",
            "Testing Accuracy of are Model is : 0.9975049572136951\n",
            "Printing All Training Model Accuracy : \n",
            "[0.998614   0.999307   1.         0.998614   0.99168399 0.999307\n",
            " 1.         0.99376299 0.997228   0.99653259]\n",
            "\n",
            "\n",
            "Creating Model With KNeighborsClassifier()\n",
            "Testing Accuracy of are Model is : 0.9981979579066959\n",
            "Printing All Training Model Accuracy : \n",
            "[0.998614   1.         1.         0.999307   0.995149   0.999307\n",
            " 0.997228   0.995842   1.         0.99653259]\n",
            "\n",
            "\n",
            "Creating Model With DecisionTreeClassifier()\n",
            "Testing Accuracy of are Model is : 0.9985443140782946\n",
            "Printing All Training Model Accuracy : \n",
            "[0.997228   1.         1.         0.999307   0.999307   0.998614\n",
            " 1.         0.997228   0.999307   0.99445215]\n",
            "\n",
            "\n",
            "Creating Model With RandomForestClassifier()\n",
            "Testing Accuracy of are Model is : 0.9992375550627977\n",
            "Printing All Training Model Accuracy : \n",
            "[0.998614   1.         1.         1.         0.999307   1.\n",
            " 1.         0.996535   1.         0.99791956]\n",
            "\n",
            "\n",
            "Creating Model With SVC()\n",
            "Testing Accuracy of are Model is : 0.997227756936495\n",
            "Printing All Training Model Accuracy : \n",
            "[0.998614   1.         1.         0.999307   0.98752599 0.999307\n",
            " 0.999307   0.99376299 0.997921   0.99653259]\n",
            "\n",
            "\n"
          ]
        }
      ],
      "source": [
        "kf = KFold(n_splits=10)\n",
        "\n",
        "mod = [LogisticRegression(), KNeighborsClassifier(), DecisionTreeClassifier(), RandomForestClassifier(), SVC()]\n",
        "\n",
        "for i in range(len(mod)):\n",
        "    kf_scores = cross_val_score(mod[i],x,y,cv=kf)\n",
        "    print('Creating Model With ' + str(mod[i]))\n",
        "    print('Testing Accuracy of are Model is : ' + str(kf_scores.mean()))\n",
        "    print('Printing All Training Model Accuracy : \\n' + str(kf_scores))\n",
        "    print('\\n')"
      ]
    },
    {
      "cell_type": "markdown",
      "metadata": {
        "id": "SOWgdbu_j_9_"
      },
      "source": [
        "## Splitting The Data Into Traning and Testing Dataset"
      ]
    },
    {
      "cell_type": "code",
      "execution_count": 3,
      "metadata": {
        "id": "vtdmbV0lj_9_"
      },
      "outputs": [],
      "source": [
        "x_train, x_test, y_train, y_test = train_test_split(x,y,test_size=0.2,random_state=10)"
      ]
    },
    {
      "cell_type": "code",
      "execution_count": 4,
      "metadata": {
        "colab": {
          "base_uri": "https://localhost:8080/",
          "height": 206
        },
        "id": "tnb9dswLj_-A",
        "outputId": "a8dfa102-6e19-4af9-e22e-ca37ac96d1bb"
      },
      "outputs": [
        {
          "data": {
            "text/html": [
              "<div>\n",
              "<style scoped>\n",
              "    .dataframe tbody tr th:only-of-type {\n",
              "        vertical-align: middle;\n",
              "    }\n",
              "\n",
              "    .dataframe tbody tr th {\n",
              "        vertical-align: top;\n",
              "    }\n",
              "\n",
              "    .dataframe thead th {\n",
              "        text-align: right;\n",
              "    }\n",
              "</style>\n",
              "<table border=\"1\" class=\"dataframe\">\n",
              "  <thead>\n",
              "    <tr style=\"text-align: right;\">\n",
              "      <th></th>\n",
              "      <th>Time</th>\n",
              "      <th>V1</th>\n",
              "      <th>V2</th>\n",
              "      <th>V3</th>\n",
              "      <th>V4</th>\n",
              "      <th>V5</th>\n",
              "      <th>V6</th>\n",
              "      <th>V7</th>\n",
              "      <th>V8</th>\n",
              "      <th>V9</th>\n",
              "      <th>...</th>\n",
              "      <th>V20</th>\n",
              "      <th>V21</th>\n",
              "      <th>V22</th>\n",
              "      <th>V23</th>\n",
              "      <th>V24</th>\n",
              "      <th>V25</th>\n",
              "      <th>V26</th>\n",
              "      <th>V27</th>\n",
              "      <th>V28</th>\n",
              "      <th>Amount</th>\n",
              "    </tr>\n",
              "  </thead>\n",
              "  <tbody>\n",
              "    <tr>\n",
              "      <th>7923</th>\n",
              "      <td>0.036236</td>\n",
              "      <td>-1.053253</td>\n",
              "      <td>0.176840</td>\n",
              "      <td>0.466455</td>\n",
              "      <td>-0.280682</td>\n",
              "      <td>0.370797</td>\n",
              "      <td>-0.396219</td>\n",
              "      <td>0.196411</td>\n",
              "      <td>-0.368495</td>\n",
              "      <td>0.948692</td>\n",
              "      <td>...</td>\n",
              "      <td>0.180493</td>\n",
              "      <td>-0.419785</td>\n",
              "      <td>0.271360</td>\n",
              "      <td>-0.252148</td>\n",
              "      <td>0.393991</td>\n",
              "      <td>-2.101191</td>\n",
              "      <td>1.499278</td>\n",
              "      <td>-0.442477</td>\n",
              "      <td>0.739981</td>\n",
              "      <td>-0.216010</td>\n",
              "    </tr>\n",
              "    <tr>\n",
              "      <th>1368</th>\n",
              "      <td>-1.186102</td>\n",
              "      <td>-0.219624</td>\n",
              "      <td>0.403059</td>\n",
              "      <td>0.378445</td>\n",
              "      <td>-0.366245</td>\n",
              "      <td>0.670069</td>\n",
              "      <td>0.786187</td>\n",
              "      <td>0.472921</td>\n",
              "      <td>0.411048</td>\n",
              "      <td>-1.184859</td>\n",
              "      <td>...</td>\n",
              "      <td>-0.026463</td>\n",
              "      <td>-0.032502</td>\n",
              "      <td>0.151010</td>\n",
              "      <td>0.317674</td>\n",
              "      <td>-1.685309</td>\n",
              "      <td>-1.413106</td>\n",
              "      <td>0.291643</td>\n",
              "      <td>0.822908</td>\n",
              "      <td>0.411632</td>\n",
              "      <td>-0.291828</td>\n",
              "    </tr>\n",
              "    <tr>\n",
              "      <th>11004</th>\n",
              "      <td>1.032540</td>\n",
              "      <td>-1.138298</td>\n",
              "      <td>0.482347</td>\n",
              "      <td>0.120004</td>\n",
              "      <td>-0.151037</td>\n",
              "      <td>0.686327</td>\n",
              "      <td>0.611429</td>\n",
              "      <td>-0.459365</td>\n",
              "      <td>-0.900493</td>\n",
              "      <td>0.731220</td>\n",
              "      <td>...</td>\n",
              "      <td>-1.333486</td>\n",
              "      <td>1.596643</td>\n",
              "      <td>-0.072553</td>\n",
              "      <td>0.089655</td>\n",
              "      <td>-1.230452</td>\n",
              "      <td>-2.054814</td>\n",
              "      <td>0.508269</td>\n",
              "      <td>1.962619</td>\n",
              "      <td>1.016966</td>\n",
              "      <td>-0.113287</td>\n",
              "    </tr>\n",
              "    <tr>\n",
              "      <th>4701</th>\n",
              "      <td>-0.803620</td>\n",
              "      <td>0.797976</td>\n",
              "      <td>-0.425843</td>\n",
              "      <td>0.257604</td>\n",
              "      <td>0.073547</td>\n",
              "      <td>-0.626253</td>\n",
              "      <td>0.009573</td>\n",
              "      <td>-0.512749</td>\n",
              "      <td>0.090537</td>\n",
              "      <td>1.224876</td>\n",
              "      <td>...</td>\n",
              "      <td>-0.246694</td>\n",
              "      <td>-0.322746</td>\n",
              "      <td>-0.516528</td>\n",
              "      <td>0.293027</td>\n",
              "      <td>0.155839</td>\n",
              "      <td>-0.177590</td>\n",
              "      <td>1.612805</td>\n",
              "      <td>-0.153807</td>\n",
              "      <td>0.014953</td>\n",
              "      <td>-0.249501</td>\n",
              "    </tr>\n",
              "    <tr>\n",
              "      <th>12322</th>\n",
              "      <td>1.353825</td>\n",
              "      <td>-0.271619</td>\n",
              "      <td>1.075090</td>\n",
              "      <td>0.418472</td>\n",
              "      <td>1.792745</td>\n",
              "      <td>0.181774</td>\n",
              "      <td>0.119256</td>\n",
              "      <td>0.217918</td>\n",
              "      <td>0.346242</td>\n",
              "      <td>-1.165321</td>\n",
              "      <td>...</td>\n",
              "      <td>0.268561</td>\n",
              "      <td>0.013117</td>\n",
              "      <td>0.468758</td>\n",
              "      <td>0.133762</td>\n",
              "      <td>0.054083</td>\n",
              "      <td>-1.339488</td>\n",
              "      <td>0.124513</td>\n",
              "      <td>0.664826</td>\n",
              "      <td>0.542406</td>\n",
              "      <td>-0.293629</td>\n",
              "    </tr>\n",
              "  </tbody>\n",
              "</table>\n",
              "<p>5 rows × 30 columns</p>\n",
              "</div>"
            ],
            "text/plain": [
              "           Time        V1        V2        V3        V4        V5        V6  \\\n",
              "7923   0.036236 -1.053253  0.176840  0.466455 -0.280682  0.370797 -0.396219   \n",
              "1368  -1.186102 -0.219624  0.403059  0.378445 -0.366245  0.670069  0.786187   \n",
              "11004  1.032540 -1.138298  0.482347  0.120004 -0.151037  0.686327  0.611429   \n",
              "4701  -0.803620  0.797976 -0.425843  0.257604  0.073547 -0.626253  0.009573   \n",
              "12322  1.353825 -0.271619  1.075090  0.418472  1.792745  0.181774  0.119256   \n",
              "\n",
              "             V7        V8        V9  ...       V20       V21       V22  \\\n",
              "7923   0.196411 -0.368495  0.948692  ...  0.180493 -0.419785  0.271360   \n",
              "1368   0.472921  0.411048 -1.184859  ... -0.026463 -0.032502  0.151010   \n",
              "11004 -0.459365 -0.900493  0.731220  ... -1.333486  1.596643 -0.072553   \n",
              "4701  -0.512749  0.090537  1.224876  ... -0.246694 -0.322746 -0.516528   \n",
              "12322  0.217918  0.346242 -1.165321  ...  0.268561  0.013117  0.468758   \n",
              "\n",
              "            V23       V24       V25       V26       V27       V28    Amount  \n",
              "7923  -0.252148  0.393991 -2.101191  1.499278 -0.442477  0.739981 -0.216010  \n",
              "1368   0.317674 -1.685309 -1.413106  0.291643  0.822908  0.411632 -0.291828  \n",
              "11004  0.089655 -1.230452 -2.054814  0.508269  1.962619  1.016966 -0.113287  \n",
              "4701   0.293027  0.155839 -0.177590  1.612805 -0.153807  0.014953 -0.249501  \n",
              "12322  0.133762  0.054083 -1.339488  0.124513  0.664826  0.542406 -0.293629  \n",
              "\n",
              "[5 rows x 30 columns]"
            ]
          },
          "execution_count": 4,
          "metadata": {},
          "output_type": "execute_result"
        }
      ],
      "source": [
        "x_train.head()"
      ]
    },
    {
      "cell_type": "code",
      "execution_count": 5,
      "metadata": {
        "colab": {
          "base_uri": "https://localhost:8080/",
          "height": 206
        },
        "id": "nMCAqIFKj_-A",
        "outputId": "91edbc44-7d56-43d7-cdb0-1eb27443d5ce"
      },
      "outputs": [
        {
          "data": {
            "text/html": [
              "<div>\n",
              "<style scoped>\n",
              "    .dataframe tbody tr th:only-of-type {\n",
              "        vertical-align: middle;\n",
              "    }\n",
              "\n",
              "    .dataframe tbody tr th {\n",
              "        vertical-align: top;\n",
              "    }\n",
              "\n",
              "    .dataframe thead th {\n",
              "        text-align: right;\n",
              "    }\n",
              "</style>\n",
              "<table border=\"1\" class=\"dataframe\">\n",
              "  <thead>\n",
              "    <tr style=\"text-align: right;\">\n",
              "      <th></th>\n",
              "      <th>Time</th>\n",
              "      <th>V1</th>\n",
              "      <th>V2</th>\n",
              "      <th>V3</th>\n",
              "      <th>V4</th>\n",
              "      <th>V5</th>\n",
              "      <th>V6</th>\n",
              "      <th>V7</th>\n",
              "      <th>V8</th>\n",
              "      <th>V9</th>\n",
              "      <th>...</th>\n",
              "      <th>V20</th>\n",
              "      <th>V21</th>\n",
              "      <th>V22</th>\n",
              "      <th>V23</th>\n",
              "      <th>V24</th>\n",
              "      <th>V25</th>\n",
              "      <th>V26</th>\n",
              "      <th>V27</th>\n",
              "      <th>V28</th>\n",
              "      <th>Amount</th>\n",
              "    </tr>\n",
              "  </thead>\n",
              "  <tbody>\n",
              "    <tr>\n",
              "      <th>2200</th>\n",
              "      <td>-1.103190</td>\n",
              "      <td>-0.146525</td>\n",
              "      <td>-2.921427</td>\n",
              "      <td>-0.428322</td>\n",
              "      <td>-0.091529</td>\n",
              "      <td>-1.534747</td>\n",
              "      <td>0.828472</td>\n",
              "      <td>-0.082180</td>\n",
              "      <td>0.240265</td>\n",
              "      <td>-0.890211</td>\n",
              "      <td>...</td>\n",
              "      <td>2.907215</td>\n",
              "      <td>0.816510</td>\n",
              "      <td>0.259666</td>\n",
              "      <td>-1.362534</td>\n",
              "      <td>-0.418882</td>\n",
              "      <td>-0.605656</td>\n",
              "      <td>-0.594412</td>\n",
              "      <td>-0.262070</td>\n",
              "      <td>0.615363</td>\n",
              "      <td>4.639677</td>\n",
              "    </tr>\n",
              "    <tr>\n",
              "      <th>7480</th>\n",
              "      <td>-0.050254</td>\n",
              "      <td>-0.023319</td>\n",
              "      <td>0.301952</td>\n",
              "      <td>0.616392</td>\n",
              "      <td>-0.664747</td>\n",
              "      <td>0.203913</td>\n",
              "      <td>-0.320840</td>\n",
              "      <td>0.509589</td>\n",
              "      <td>-0.229902</td>\n",
              "      <td>0.009742</td>\n",
              "      <td>...</td>\n",
              "      <td>0.088918</td>\n",
              "      <td>-0.159287</td>\n",
              "      <td>-0.145032</td>\n",
              "      <td>-0.158831</td>\n",
              "      <td>0.011880</td>\n",
              "      <td>-1.054055</td>\n",
              "      <td>1.348822</td>\n",
              "      <td>-0.978250</td>\n",
              "      <td>-0.907991</td>\n",
              "      <td>-0.312711</td>\n",
              "    </tr>\n",
              "    <tr>\n",
              "      <th>6761</th>\n",
              "      <td>-0.261236</td>\n",
              "      <td>-0.110747</td>\n",
              "      <td>0.541453</td>\n",
              "      <td>0.142165</td>\n",
              "      <td>0.650477</td>\n",
              "      <td>-0.315950</td>\n",
              "      <td>0.015917</td>\n",
              "      <td>-0.073881</td>\n",
              "      <td>0.392332</td>\n",
              "      <td>-0.050744</td>\n",
              "      <td>...</td>\n",
              "      <td>-0.214163</td>\n",
              "      <td>-0.159654</td>\n",
              "      <td>-0.372450</td>\n",
              "      <td>0.055253</td>\n",
              "      <td>-0.082310</td>\n",
              "      <td>-1.280759</td>\n",
              "      <td>0.661932</td>\n",
              "      <td>-0.575170</td>\n",
              "      <td>-0.107056</td>\n",
              "      <td>-0.258788</td>\n",
              "    </tr>\n",
              "    <tr>\n",
              "      <th>11854</th>\n",
              "      <td>1.209469</td>\n",
              "      <td>-0.223561</td>\n",
              "      <td>0.310339</td>\n",
              "      <td>0.524393</td>\n",
              "      <td>-0.002286</td>\n",
              "      <td>0.604790</td>\n",
              "      <td>0.848259</td>\n",
              "      <td>0.297190</td>\n",
              "      <td>0.369742</td>\n",
              "      <td>0.178648</td>\n",
              "      <td>...</td>\n",
              "      <td>-0.099097</td>\n",
              "      <td>-0.147131</td>\n",
              "      <td>0.393326</td>\n",
              "      <td>0.269807</td>\n",
              "      <td>-1.145304</td>\n",
              "      <td>-0.944556</td>\n",
              "      <td>0.493721</td>\n",
              "      <td>0.703726</td>\n",
              "      <td>0.240968</td>\n",
              "      <td>-0.267512</td>\n",
              "    </tr>\n",
              "    <tr>\n",
              "      <th>8745</th>\n",
              "      <td>0.158260</td>\n",
              "      <td>-0.284972</td>\n",
              "      <td>0.481080</td>\n",
              "      <td>0.378756</td>\n",
              "      <td>-0.691650</td>\n",
              "      <td>-0.079286</td>\n",
              "      <td>-0.371337</td>\n",
              "      <td>0.325118</td>\n",
              "      <td>0.031560</td>\n",
              "      <td>0.280127</td>\n",
              "      <td>...</td>\n",
              "      <td>0.285122</td>\n",
              "      <td>-0.212682</td>\n",
              "      <td>-0.394048</td>\n",
              "      <td>0.045044</td>\n",
              "      <td>-0.052119</td>\n",
              "      <td>-0.790078</td>\n",
              "      <td>1.449064</td>\n",
              "      <td>0.323404</td>\n",
              "      <td>0.475841</td>\n",
              "      <td>-0.249501</td>\n",
              "    </tr>\n",
              "  </tbody>\n",
              "</table>\n",
              "<p>5 rows × 30 columns</p>\n",
              "</div>"
            ],
            "text/plain": [
              "           Time        V1        V2        V3        V4        V5        V6  \\\n",
              "2200  -1.103190 -0.146525 -2.921427 -0.428322 -0.091529 -1.534747  0.828472   \n",
              "7480  -0.050254 -0.023319  0.301952  0.616392 -0.664747  0.203913 -0.320840   \n",
              "6761  -0.261236 -0.110747  0.541453  0.142165  0.650477 -0.315950  0.015917   \n",
              "11854  1.209469 -0.223561  0.310339  0.524393 -0.002286  0.604790  0.848259   \n",
              "8745   0.158260 -0.284972  0.481080  0.378756 -0.691650 -0.079286 -0.371337   \n",
              "\n",
              "             V7        V8        V9  ...       V20       V21       V22  \\\n",
              "2200  -0.082180  0.240265 -0.890211  ...  2.907215  0.816510  0.259666   \n",
              "7480   0.509589 -0.229902  0.009742  ...  0.088918 -0.159287 -0.145032   \n",
              "6761  -0.073881  0.392332 -0.050744  ... -0.214163 -0.159654 -0.372450   \n",
              "11854  0.297190  0.369742  0.178648  ... -0.099097 -0.147131  0.393326   \n",
              "8745   0.325118  0.031560  0.280127  ...  0.285122 -0.212682 -0.394048   \n",
              "\n",
              "            V23       V24       V25       V26       V27       V28    Amount  \n",
              "2200  -1.362534 -0.418882 -0.605656 -0.594412 -0.262070  0.615363  4.639677  \n",
              "7480  -0.158831  0.011880 -1.054055  1.348822 -0.978250 -0.907991 -0.312711  \n",
              "6761   0.055253 -0.082310 -1.280759  0.661932 -0.575170 -0.107056 -0.258788  \n",
              "11854  0.269807 -1.145304 -0.944556  0.493721  0.703726  0.240968 -0.267512  \n",
              "8745   0.045044 -0.052119 -0.790078  1.449064  0.323404  0.475841 -0.249501  \n",
              "\n",
              "[5 rows x 30 columns]"
            ]
          },
          "execution_count": 5,
          "metadata": {},
          "output_type": "execute_result"
        }
      ],
      "source": [
        "x_test.head()"
      ]
    },
    {
      "cell_type": "code",
      "execution_count": 6,
      "metadata": {
        "colab": {
          "base_uri": "https://localhost:8080/"
        },
        "id": "D3DpTHUpj_-A",
        "outputId": "cef0bd30-cde5-4365-d0a2-8cec397533d0"
      },
      "outputs": [
        {
          "data": {
            "text/html": [
              "<div>\n",
              "<style scoped>\n",
              "    .dataframe tbody tr th:only-of-type {\n",
              "        vertical-align: middle;\n",
              "    }\n",
              "\n",
              "    .dataframe tbody tr th {\n",
              "        vertical-align: top;\n",
              "    }\n",
              "\n",
              "    .dataframe thead th {\n",
              "        text-align: right;\n",
              "    }\n",
              "</style>\n",
              "<table border=\"1\" class=\"dataframe\">\n",
              "  <thead>\n",
              "    <tr style=\"text-align: right;\">\n",
              "      <th></th>\n",
              "      <th>Class</th>\n",
              "    </tr>\n",
              "  </thead>\n",
              "  <tbody>\n",
              "    <tr>\n",
              "      <th>7923</th>\n",
              "      <td>0</td>\n",
              "    </tr>\n",
              "    <tr>\n",
              "      <th>1368</th>\n",
              "      <td>0</td>\n",
              "    </tr>\n",
              "    <tr>\n",
              "      <th>11004</th>\n",
              "      <td>0</td>\n",
              "    </tr>\n",
              "    <tr>\n",
              "      <th>4701</th>\n",
              "      <td>0</td>\n",
              "    </tr>\n",
              "    <tr>\n",
              "      <th>12322</th>\n",
              "      <td>0</td>\n",
              "    </tr>\n",
              "  </tbody>\n",
              "</table>\n",
              "</div>"
            ],
            "text/plain": [
              "       Class\n",
              "7923       0\n",
              "1368       0\n",
              "11004      0\n",
              "4701       0\n",
              "12322      0"
            ]
          },
          "execution_count": 6,
          "metadata": {},
          "output_type": "execute_result"
        }
      ],
      "source": [
        "y_train.head()"
      ]
    },
    {
      "cell_type": "code",
      "execution_count": 7,
      "metadata": {
        "colab": {
          "base_uri": "https://localhost:8080/"
        },
        "id": "ZSxcwBK6j_-B",
        "outputId": "848b9adc-3c02-49b6-ae8f-777a3a2a81ec"
      },
      "outputs": [
        {
          "data": {
            "text/html": [
              "<div>\n",
              "<style scoped>\n",
              "    .dataframe tbody tr th:only-of-type {\n",
              "        vertical-align: middle;\n",
              "    }\n",
              "\n",
              "    .dataframe tbody tr th {\n",
              "        vertical-align: top;\n",
              "    }\n",
              "\n",
              "    .dataframe thead th {\n",
              "        text-align: right;\n",
              "    }\n",
              "</style>\n",
              "<table border=\"1\" class=\"dataframe\">\n",
              "  <thead>\n",
              "    <tr style=\"text-align: right;\">\n",
              "      <th></th>\n",
              "      <th>Class</th>\n",
              "    </tr>\n",
              "  </thead>\n",
              "  <tbody>\n",
              "    <tr>\n",
              "      <th>2200</th>\n",
              "      <td>0</td>\n",
              "    </tr>\n",
              "    <tr>\n",
              "      <th>7480</th>\n",
              "      <td>0</td>\n",
              "    </tr>\n",
              "    <tr>\n",
              "      <th>6761</th>\n",
              "      <td>0</td>\n",
              "    </tr>\n",
              "    <tr>\n",
              "      <th>11854</th>\n",
              "      <td>0</td>\n",
              "    </tr>\n",
              "    <tr>\n",
              "      <th>8745</th>\n",
              "      <td>0</td>\n",
              "    </tr>\n",
              "  </tbody>\n",
              "</table>\n",
              "</div>"
            ],
            "text/plain": [
              "       Class\n",
              "2200       0\n",
              "7480       0\n",
              "6761       0\n",
              "11854      0\n",
              "8745       0"
            ]
          },
          "execution_count": 7,
          "metadata": {},
          "output_type": "execute_result"
        }
      ],
      "source": [
        "y_test.head()"
      ]
    },
    {
      "cell_type": "markdown",
      "metadata": {
        "id": "XH2noaJ-j_-B"
      },
      "source": [
        "## Preparing Model From The Dataset"
      ]
    },
    {
      "cell_type": "markdown",
      "metadata": {
        "id": "r0M9WNdAj_-B"
      },
      "source": [
        "### Picking Model Lowest Training And Testing Difference"
      ]
    },
    {
      "cell_type": "code",
      "execution_count": 19,
      "metadata": {
        "id": "7_159DrBj_-B"
      },
      "outputs": [],
      "source": [
        "def predict(model):\n",
        "    print('Creating Model With ' + str(model))\n",
        "    model.fit(x_train,y_train)\n",
        "    ypred = model.predict(x_test)\n",
        "    print('Training Accuracy of are Model is : ' + str(round(model.score(x_train,y_train), 2)) + '%')\n",
        "    print('Testing Accuracy of are Model is : ' + str(round(model.score(x_test,y_test), 2)) + '%')\n",
        "    print(classification_report(y_test,ypred))"
      ]
    },
    {
      "cell_type": "code",
      "execution_count": 20,
      "metadata": {
        "colab": {
          "base_uri": "https://localhost:8080/"
        },
        "id": "QLjB5Gxej_-B",
        "outputId": "af77bb1c-58ee-494d-e0c6-0b6a0f0726cc"
      },
      "outputs": [
        {
          "name": "stdout",
          "output_type": "stream",
          "text": [
            "Creating Model With LogisticRegression()\n",
            "Training Accuracy of are Model is : 1.0%\n",
            "Testing Accuracy of are Model is : 1.0%\n",
            "              precision    recall  f1-score   support\n",
            "\n",
            "           0       1.00      1.00      1.00      2871\n",
            "           1       1.00      0.53      0.70        15\n",
            "\n",
            "    accuracy                           1.00      2886\n",
            "   macro avg       1.00      0.77      0.85      2886\n",
            "weighted avg       1.00      1.00      1.00      2886\n",
            "\n",
            "Creating Model With KNeighborsClassifier()\n",
            "Training Accuracy of are Model is : 1.0%\n",
            "Testing Accuracy of are Model is : 1.0%\n",
            "              precision    recall  f1-score   support\n",
            "\n",
            "           0       1.00      1.00      1.00      2871\n",
            "           1       1.00      0.53      0.70        15\n",
            "\n",
            "    accuracy                           1.00      2886\n",
            "   macro avg       1.00      0.77      0.85      2886\n",
            "weighted avg       1.00      1.00      1.00      2886\n",
            "\n",
            "Creating Model With DecisionTreeClassifier()\n",
            "Training Accuracy of are Model is : 1.0%\n",
            "Testing Accuracy of are Model is : 1.0%\n",
            "              precision    recall  f1-score   support\n",
            "\n",
            "           0       1.00      1.00      1.00      2871\n",
            "           1       1.00      0.87      0.93        15\n",
            "\n",
            "    accuracy                           1.00      2886\n",
            "   macro avg       1.00      0.93      0.96      2886\n",
            "weighted avg       1.00      1.00      1.00      2886\n",
            "\n",
            "Creating Model With BaggingClassifier(estimator=DecisionTreeClassifier())\n",
            "Training Accuracy of are Model is : 1.0%\n",
            "Testing Accuracy of are Model is : 1.0%\n",
            "              precision    recall  f1-score   support\n",
            "\n",
            "           0       1.00      1.00      1.00      2871\n",
            "           1       1.00      0.93      0.97        15\n",
            "\n",
            "    accuracy                           1.00      2886\n",
            "   macro avg       1.00      0.97      0.98      2886\n",
            "weighted avg       1.00      1.00      1.00      2886\n",
            "\n",
            "Creating Model With RandomForestClassifier()\n",
            "Training Accuracy of are Model is : 1.0%\n",
            "Testing Accuracy of are Model is : 1.0%\n",
            "              precision    recall  f1-score   support\n",
            "\n",
            "           0       1.00      1.00      1.00      2871\n",
            "           1       1.00      0.93      0.97        15\n",
            "\n",
            "    accuracy                           1.00      2886\n",
            "   macro avg       1.00      0.97      0.98      2886\n",
            "weighted avg       1.00      1.00      1.00      2886\n",
            "\n",
            "Creating Model With BaggingClassifier(estimator=RandomForestClassifier())\n",
            "Training Accuracy of are Model is : 1.0%\n",
            "Testing Accuracy of are Model is : 1.0%\n",
            "              precision    recall  f1-score   support\n",
            "\n",
            "           0       1.00      1.00      1.00      2871\n",
            "           1       1.00      0.93      0.97        15\n",
            "\n",
            "    accuracy                           1.00      2886\n",
            "   macro avg       1.00      0.97      0.98      2886\n",
            "weighted avg       1.00      1.00      1.00      2886\n",
            "\n",
            "Creating Model With SVC()\n",
            "Training Accuracy of are Model is : 1.0%\n",
            "Testing Accuracy of are Model is : 1.0%\n",
            "              precision    recall  f1-score   support\n",
            "\n",
            "           0       1.00      1.00      1.00      2871\n",
            "           1       1.00      0.40      0.57        15\n",
            "\n",
            "    accuracy                           1.00      2886\n",
            "   macro avg       1.00      0.70      0.78      2886\n",
            "weighted avg       1.00      1.00      1.00      2886\n",
            "\n"
          ]
        }
      ],
      "source": [
        "models = [  LogisticRegression(), KNeighborsClassifier(), DecisionTreeClassifier(), BaggingClassifier(DecisionTreeClassifier()),\n",
        "            RandomForestClassifier(), BaggingClassifier(RandomForestClassifier()), SVC()]\n",
        "\n",
        "for i in range(len(models)):\n",
        "    predict(models[i])"
      ]
    },
    {
      "cell_type": "markdown",
      "metadata": {
        "id": "sBTTd7brj_-D"
      },
      "source": [
        "### Performing Hyperparameter Tuning"
      ]
    },
    {
      "cell_type": "markdown",
      "metadata": {
        "id": "hMBiz897j_-D"
      },
      "source": [
        "#### Tuning Decision Tree Classifier With Bagging Classifier"
      ]
    },
    {
      "cell_type": "code",
      "execution_count": 29,
      "metadata": {
        "id": "icgm8mJTj_-D"
      },
      "outputs": [],
      "source": [
        "params = {\n",
        "    'criterion': ['gini', 'entropy', 'log_loss'],\n",
        "    'splitter': ['best', 'random'],\n",
        "    'max_depth': [2,3,4,5],\n",
        "    'min_samples_split': [2,3,4,5],\n",
        "    'min_samples_leaf': [1,2,3,4,5],\n",
        "    'min_weight_fraction_leaf': [0,1,2,3,4,5],\n",
        "    'max_features': ['auto', 'sqrt', 'log2']\n",
        "    }"
      ]
    },
    {
      "cell_type": "code",
      "execution_count": 30,
      "metadata": {
        "colab": {
          "base_uri": "https://localhost:8080/",
          "height": 118
        },
        "id": "Cu0PhGq8j_-E",
        "outputId": "5726c287-97e0-4e1f-fe01-25cacba76962"
      },
      "outputs": [
        {
          "data": {
            "text/html": [
              "<style>#sk-container-id-3 {color: black;}#sk-container-id-3 pre{padding: 0;}#sk-container-id-3 div.sk-toggleable {background-color: white;}#sk-container-id-3 label.sk-toggleable__label {cursor: pointer;display: block;width: 100%;margin-bottom: 0;padding: 0.3em;box-sizing: border-box;text-align: center;}#sk-container-id-3 label.sk-toggleable__label-arrow:before {content: \"▸\";float: left;margin-right: 0.25em;color: #696969;}#sk-container-id-3 label.sk-toggleable__label-arrow:hover:before {color: black;}#sk-container-id-3 div.sk-estimator:hover label.sk-toggleable__label-arrow:before {color: black;}#sk-container-id-3 div.sk-toggleable__content {max-height: 0;max-width: 0;overflow: hidden;text-align: left;background-color: #f0f8ff;}#sk-container-id-3 div.sk-toggleable__content pre {margin: 0.2em;color: black;border-radius: 0.25em;background-color: #f0f8ff;}#sk-container-id-3 input.sk-toggleable__control:checked~div.sk-toggleable__content {max-height: 200px;max-width: 100%;overflow: auto;}#sk-container-id-3 input.sk-toggleable__control:checked~label.sk-toggleable__label-arrow:before {content: \"▾\";}#sk-container-id-3 div.sk-estimator input.sk-toggleable__control:checked~label.sk-toggleable__label {background-color: #d4ebff;}#sk-container-id-3 div.sk-label input.sk-toggleable__control:checked~label.sk-toggleable__label {background-color: #d4ebff;}#sk-container-id-3 input.sk-hidden--visually {border: 0;clip: rect(1px 1px 1px 1px);clip: rect(1px, 1px, 1px, 1px);height: 1px;margin: -1px;overflow: hidden;padding: 0;position: absolute;width: 1px;}#sk-container-id-3 div.sk-estimator {font-family: monospace;background-color: #f0f8ff;border: 1px dotted black;border-radius: 0.25em;box-sizing: border-box;margin-bottom: 0.5em;}#sk-container-id-3 div.sk-estimator:hover {background-color: #d4ebff;}#sk-container-id-3 div.sk-parallel-item::after {content: \"\";width: 100%;border-bottom: 1px solid gray;flex-grow: 1;}#sk-container-id-3 div.sk-label:hover label.sk-toggleable__label {background-color: #d4ebff;}#sk-container-id-3 div.sk-serial::before {content: \"\";position: absolute;border-left: 1px solid gray;box-sizing: border-box;top: 0;bottom: 0;left: 50%;z-index: 0;}#sk-container-id-3 div.sk-serial {display: flex;flex-direction: column;align-items: center;background-color: white;padding-right: 0.2em;padding-left: 0.2em;position: relative;}#sk-container-id-3 div.sk-item {position: relative;z-index: 1;}#sk-container-id-3 div.sk-parallel {display: flex;align-items: stretch;justify-content: center;background-color: white;position: relative;}#sk-container-id-3 div.sk-item::before, #sk-container-id-3 div.sk-parallel-item::before {content: \"\";position: absolute;border-left: 1px solid gray;box-sizing: border-box;top: 0;bottom: 0;left: 50%;z-index: -1;}#sk-container-id-3 div.sk-parallel-item {display: flex;flex-direction: column;z-index: 1;position: relative;background-color: white;}#sk-container-id-3 div.sk-parallel-item:first-child::after {align-self: flex-end;width: 50%;}#sk-container-id-3 div.sk-parallel-item:last-child::after {align-self: flex-start;width: 50%;}#sk-container-id-3 div.sk-parallel-item:only-child::after {width: 0;}#sk-container-id-3 div.sk-dashed-wrapped {border: 1px dashed gray;margin: 0 0.4em 0.5em 0.4em;box-sizing: border-box;padding-bottom: 0.4em;background-color: white;}#sk-container-id-3 div.sk-label label {font-family: monospace;font-weight: bold;display: inline-block;line-height: 1.2em;}#sk-container-id-3 div.sk-label-container {text-align: center;}#sk-container-id-3 div.sk-container {/* jupyter's `normalize.less` sets `[hidden] { display: none; }` but bootstrap.min.css set `[hidden] { display: none !important; }` so we also need the `!important` here to be able to override the default hidden behavior on the sphinx rendered scikit-learn.org. See: https://github.com/scikit-learn/scikit-learn/issues/21755 */display: inline-block !important;position: relative;}#sk-container-id-3 div.sk-text-repr-fallback {display: none;}</style><div id=\"sk-container-id-3\" class=\"sk-top-container\"><div class=\"sk-text-repr-fallback\"><pre>GridSearchCV(estimator=DecisionTreeClassifier(), n_jobs=-1,\n",
              "             param_grid={&#x27;criterion&#x27;: [&#x27;gini&#x27;, &#x27;entropy&#x27;, &#x27;log_loss&#x27;],\n",
              "                         &#x27;max_depth&#x27;: [2, 3, 4, 5],\n",
              "                         &#x27;max_features&#x27;: [&#x27;auto&#x27;, &#x27;sqrt&#x27;, &#x27;log2&#x27;],\n",
              "                         &#x27;min_samples_leaf&#x27;: [1, 2, 3, 4, 5],\n",
              "                         &#x27;min_samples_split&#x27;: [2, 3, 4, 5],\n",
              "                         &#x27;min_weight_fraction_leaf&#x27;: [0, 1, 2, 3, 4, 5],\n",
              "                         &#x27;splitter&#x27;: [&#x27;best&#x27;, &#x27;random&#x27;]})</pre><b>In a Jupyter environment, please rerun this cell to show the HTML representation or trust the notebook. <br />On GitHub, the HTML representation is unable to render, please try loading this page with nbviewer.org.</b></div><div class=\"sk-container\" hidden><div class=\"sk-item sk-dashed-wrapped\"><div class=\"sk-label-container\"><div class=\"sk-label sk-toggleable\"><input class=\"sk-toggleable__control sk-hidden--visually\" id=\"sk-estimator-id-7\" type=\"checkbox\" ><label for=\"sk-estimator-id-7\" class=\"sk-toggleable__label sk-toggleable__label-arrow\">GridSearchCV</label><div class=\"sk-toggleable__content\"><pre>GridSearchCV(estimator=DecisionTreeClassifier(), n_jobs=-1,\n",
              "             param_grid={&#x27;criterion&#x27;: [&#x27;gini&#x27;, &#x27;entropy&#x27;, &#x27;log_loss&#x27;],\n",
              "                         &#x27;max_depth&#x27;: [2, 3, 4, 5],\n",
              "                         &#x27;max_features&#x27;: [&#x27;auto&#x27;, &#x27;sqrt&#x27;, &#x27;log2&#x27;],\n",
              "                         &#x27;min_samples_leaf&#x27;: [1, 2, 3, 4, 5],\n",
              "                         &#x27;min_samples_split&#x27;: [2, 3, 4, 5],\n",
              "                         &#x27;min_weight_fraction_leaf&#x27;: [0, 1, 2, 3, 4, 5],\n",
              "                         &#x27;splitter&#x27;: [&#x27;best&#x27;, &#x27;random&#x27;]})</pre></div></div></div><div class=\"sk-parallel\"><div class=\"sk-parallel-item\"><div class=\"sk-item\"><div class=\"sk-label-container\"><div class=\"sk-label sk-toggleable\"><input class=\"sk-toggleable__control sk-hidden--visually\" id=\"sk-estimator-id-8\" type=\"checkbox\" ><label for=\"sk-estimator-id-8\" class=\"sk-toggleable__label sk-toggleable__label-arrow\">estimator: DecisionTreeClassifier</label><div class=\"sk-toggleable__content\"><pre>DecisionTreeClassifier()</pre></div></div></div><div class=\"sk-serial\"><div class=\"sk-item\"><div class=\"sk-estimator sk-toggleable\"><input class=\"sk-toggleable__control sk-hidden--visually\" id=\"sk-estimator-id-9\" type=\"checkbox\" ><label for=\"sk-estimator-id-9\" class=\"sk-toggleable__label sk-toggleable__label-arrow\">DecisionTreeClassifier</label><div class=\"sk-toggleable__content\"><pre>DecisionTreeClassifier()</pre></div></div></div></div></div></div></div></div></div></div>"
            ],
            "text/plain": [
              "GridSearchCV(estimator=DecisionTreeClassifier(), n_jobs=-1,\n",
              "             param_grid={'criterion': ['gini', 'entropy', 'log_loss'],\n",
              "                         'max_depth': [2, 3, 4, 5],\n",
              "                         'max_features': ['auto', 'sqrt', 'log2'],\n",
              "                         'min_samples_leaf': [1, 2, 3, 4, 5],\n",
              "                         'min_samples_split': [2, 3, 4, 5],\n",
              "                         'min_weight_fraction_leaf': [0, 1, 2, 3, 4, 5],\n",
              "                         'splitter': ['best', 'random']})"
            ]
          },
          "execution_count": 30,
          "metadata": {},
          "output_type": "execute_result"
        }
      ],
      "source": [
        "grid = GridSearchCV(DecisionTreeClassifier(), param_grid=params, n_jobs=-1)\n",
        "\n",
        "grid.fit(x_train,y_train)"
      ]
    },
    {
      "cell_type": "code",
      "execution_count": 31,
      "metadata": {
        "colab": {
          "base_uri": "https://localhost:8080/"
        },
        "id": "sUMcLXRfj_-E",
        "outputId": "4a439550-9a01-4f3d-eb87-44e9a07dd5f7"
      },
      "outputs": [
        {
          "data": {
            "text/plain": [
              "{'criterion': 'entropy',\n",
              " 'max_depth': 5,\n",
              " 'max_features': 'log2',\n",
              " 'min_samples_leaf': 4,\n",
              " 'min_samples_split': 4,\n",
              " 'min_weight_fraction_leaf': 0,\n",
              " 'splitter': 'best'}"
            ]
          },
          "execution_count": 31,
          "metadata": {},
          "output_type": "execute_result"
        }
      ],
      "source": [
        "grid.best_params_"
      ]
    },
    {
      "cell_type": "code",
      "execution_count": 32,
      "metadata": {
        "colab": {
          "base_uri": "https://localhost:8080/"
        },
        "id": "8c9Ivawkj_-E",
        "outputId": "4cda2868-da42-42ce-edbe-eaff31098ddc"
      },
      "outputs": [
        {
          "name": "stdout",
          "output_type": "stream",
          "text": [
            "Creating Model With AdaBoostClassifier(estimator=DecisionTreeClassifier(max_depth=4,\n",
            "                                                    max_features='sqrt',\n",
            "                                                    min_samples_leaf=4,\n",
            "                                                    min_samples_split=4,\n",
            "                                                    min_weight_fraction_leaf=0),\n",
            "                   learning_rate=1, n_estimators=100)\n",
            "Training Accuracy of are Model is : 1.0%\n",
            "Testing Accuracy of are Model is : 1.0%\n",
            "              precision    recall  f1-score   support\n",
            "\n",
            "           0       1.00      1.00      1.00      2871\n",
            "           1       1.00      0.80      0.89        15\n",
            "\n",
            "    accuracy                           1.00      2886\n",
            "   macro avg       1.00      0.90      0.94      2886\n",
            "weighted avg       1.00      1.00      1.00      2886\n",
            "\n"
          ]
        }
      ],
      "source": [
        "predict(AdaBoostClassifier( DecisionTreeClassifier( criterion = 'gini', max_depth = 4, max_features = 'sqrt', min_samples_leaf = 4,\n",
        "                                                    min_samples_split = 4, min_weight_fraction_leaf = 0, splitter = 'best'),\n",
        "                            learning_rate= 1, n_estimators=100))"
      ]
    },
    {
      "cell_type": "markdown",
      "metadata": {
        "id": "wbZfp3jcj_-F"
      },
      "source": [
        "#### Tuning Gradient Boosting Classifier"
      ]
    },
    {
      "cell_type": "code",
      "execution_count": 34,
      "metadata": {
        "colab": {
          "base_uri": "https://localhost:8080/"
        },
        "id": "hMpmBZA0j_-F",
        "outputId": "bf3dc18d-b340-4201-b6b0-1537890bc613"
      },
      "outputs": [
        {
          "name": "stdout",
          "output_type": "stream",
          "text": [
            "Creating Model With GradientBoostingClassifier()\n",
            "Training Accuracy of are Model is : 1.0%\n",
            "Testing Accuracy of are Model is : 1.0%\n",
            "              precision    recall  f1-score   support\n",
            "\n",
            "           0       1.00      1.00      1.00      2871\n",
            "           1       1.00      0.93      0.97        15\n",
            "\n",
            "    accuracy                           1.00      2886\n",
            "   macro avg       1.00      0.97      0.98      2886\n",
            "weighted avg       1.00      1.00      1.00      2886\n",
            "\n"
          ]
        }
      ],
      "source": [
        "predict(GradientBoostingClassifier())"
      ]
    },
    {
      "cell_type": "code",
      "execution_count": 35,
      "metadata": {
        "id": "_CK5VXPSj_-F"
      },
      "outputs": [],
      "source": [
        "params = {\n",
        "    'loss' : ['log_loss', 'deviance', 'exponential'],\n",
        "    'criterion' : ['friedman_mse', 'squared_error'],\n",
        "    'learning_rate' : [0.1,0.2,0.3,0.4,0.5],\n",
        "    'max_features' : ['auto', 'sqrt', 'log2'],\n",
        "    'n_estimators' : [1,2,3,4,5]\n",
        "    }"
      ]
    },
    {
      "cell_type": "code",
      "execution_count": 36,
      "metadata": {
        "colab": {
          "base_uri": "https://localhost:8080/",
          "height": 118
        },
        "id": "tVXtL5z8j_-G",
        "outputId": "3a6282ce-5f4f-4814-f8bb-b55d665be26c"
      },
      "outputs": [
        {
          "data": {
            "text/html": [
              "<style>#sk-container-id-4 {color: black;}#sk-container-id-4 pre{padding: 0;}#sk-container-id-4 div.sk-toggleable {background-color: white;}#sk-container-id-4 label.sk-toggleable__label {cursor: pointer;display: block;width: 100%;margin-bottom: 0;padding: 0.3em;box-sizing: border-box;text-align: center;}#sk-container-id-4 label.sk-toggleable__label-arrow:before {content: \"▸\";float: left;margin-right: 0.25em;color: #696969;}#sk-container-id-4 label.sk-toggleable__label-arrow:hover:before {color: black;}#sk-container-id-4 div.sk-estimator:hover label.sk-toggleable__label-arrow:before {color: black;}#sk-container-id-4 div.sk-toggleable__content {max-height: 0;max-width: 0;overflow: hidden;text-align: left;background-color: #f0f8ff;}#sk-container-id-4 div.sk-toggleable__content pre {margin: 0.2em;color: black;border-radius: 0.25em;background-color: #f0f8ff;}#sk-container-id-4 input.sk-toggleable__control:checked~div.sk-toggleable__content {max-height: 200px;max-width: 100%;overflow: auto;}#sk-container-id-4 input.sk-toggleable__control:checked~label.sk-toggleable__label-arrow:before {content: \"▾\";}#sk-container-id-4 div.sk-estimator input.sk-toggleable__control:checked~label.sk-toggleable__label {background-color: #d4ebff;}#sk-container-id-4 div.sk-label input.sk-toggleable__control:checked~label.sk-toggleable__label {background-color: #d4ebff;}#sk-container-id-4 input.sk-hidden--visually {border: 0;clip: rect(1px 1px 1px 1px);clip: rect(1px, 1px, 1px, 1px);height: 1px;margin: -1px;overflow: hidden;padding: 0;position: absolute;width: 1px;}#sk-container-id-4 div.sk-estimator {font-family: monospace;background-color: #f0f8ff;border: 1px dotted black;border-radius: 0.25em;box-sizing: border-box;margin-bottom: 0.5em;}#sk-container-id-4 div.sk-estimator:hover {background-color: #d4ebff;}#sk-container-id-4 div.sk-parallel-item::after {content: \"\";width: 100%;border-bottom: 1px solid gray;flex-grow: 1;}#sk-container-id-4 div.sk-label:hover label.sk-toggleable__label {background-color: #d4ebff;}#sk-container-id-4 div.sk-serial::before {content: \"\";position: absolute;border-left: 1px solid gray;box-sizing: border-box;top: 0;bottom: 0;left: 50%;z-index: 0;}#sk-container-id-4 div.sk-serial {display: flex;flex-direction: column;align-items: center;background-color: white;padding-right: 0.2em;padding-left: 0.2em;position: relative;}#sk-container-id-4 div.sk-item {position: relative;z-index: 1;}#sk-container-id-4 div.sk-parallel {display: flex;align-items: stretch;justify-content: center;background-color: white;position: relative;}#sk-container-id-4 div.sk-item::before, #sk-container-id-4 div.sk-parallel-item::before {content: \"\";position: absolute;border-left: 1px solid gray;box-sizing: border-box;top: 0;bottom: 0;left: 50%;z-index: -1;}#sk-container-id-4 div.sk-parallel-item {display: flex;flex-direction: column;z-index: 1;position: relative;background-color: white;}#sk-container-id-4 div.sk-parallel-item:first-child::after {align-self: flex-end;width: 50%;}#sk-container-id-4 div.sk-parallel-item:last-child::after {align-self: flex-start;width: 50%;}#sk-container-id-4 div.sk-parallel-item:only-child::after {width: 0;}#sk-container-id-4 div.sk-dashed-wrapped {border: 1px dashed gray;margin: 0 0.4em 0.5em 0.4em;box-sizing: border-box;padding-bottom: 0.4em;background-color: white;}#sk-container-id-4 div.sk-label label {font-family: monospace;font-weight: bold;display: inline-block;line-height: 1.2em;}#sk-container-id-4 div.sk-label-container {text-align: center;}#sk-container-id-4 div.sk-container {/* jupyter's `normalize.less` sets `[hidden] { display: none; }` but bootstrap.min.css set `[hidden] { display: none !important; }` so we also need the `!important` here to be able to override the default hidden behavior on the sphinx rendered scikit-learn.org. See: https://github.com/scikit-learn/scikit-learn/issues/21755 */display: inline-block !important;position: relative;}#sk-container-id-4 div.sk-text-repr-fallback {display: none;}</style><div id=\"sk-container-id-4\" class=\"sk-top-container\"><div class=\"sk-text-repr-fallback\"><pre>GridSearchCV(estimator=GradientBoostingClassifier(), n_jobs=-1,\n",
              "             param_grid={&#x27;criterion&#x27;: [&#x27;friedman_mse&#x27;, &#x27;squared_error&#x27;],\n",
              "                         &#x27;learning_rate&#x27;: [0.1, 0.2, 0.3, 0.4, 0.5],\n",
              "                         &#x27;loss&#x27;: [&#x27;log_loss&#x27;, &#x27;deviance&#x27;, &#x27;exponential&#x27;],\n",
              "                         &#x27;max_features&#x27;: [&#x27;auto&#x27;, &#x27;sqrt&#x27;, &#x27;log2&#x27;],\n",
              "                         &#x27;n_estimators&#x27;: [1, 2, 3, 4, 5]})</pre><b>In a Jupyter environment, please rerun this cell to show the HTML representation or trust the notebook. <br />On GitHub, the HTML representation is unable to render, please try loading this page with nbviewer.org.</b></div><div class=\"sk-container\" hidden><div class=\"sk-item sk-dashed-wrapped\"><div class=\"sk-label-container\"><div class=\"sk-label sk-toggleable\"><input class=\"sk-toggleable__control sk-hidden--visually\" id=\"sk-estimator-id-10\" type=\"checkbox\" ><label for=\"sk-estimator-id-10\" class=\"sk-toggleable__label sk-toggleable__label-arrow\">GridSearchCV</label><div class=\"sk-toggleable__content\"><pre>GridSearchCV(estimator=GradientBoostingClassifier(), n_jobs=-1,\n",
              "             param_grid={&#x27;criterion&#x27;: [&#x27;friedman_mse&#x27;, &#x27;squared_error&#x27;],\n",
              "                         &#x27;learning_rate&#x27;: [0.1, 0.2, 0.3, 0.4, 0.5],\n",
              "                         &#x27;loss&#x27;: [&#x27;log_loss&#x27;, &#x27;deviance&#x27;, &#x27;exponential&#x27;],\n",
              "                         &#x27;max_features&#x27;: [&#x27;auto&#x27;, &#x27;sqrt&#x27;, &#x27;log2&#x27;],\n",
              "                         &#x27;n_estimators&#x27;: [1, 2, 3, 4, 5]})</pre></div></div></div><div class=\"sk-parallel\"><div class=\"sk-parallel-item\"><div class=\"sk-item\"><div class=\"sk-label-container\"><div class=\"sk-label sk-toggleable\"><input class=\"sk-toggleable__control sk-hidden--visually\" id=\"sk-estimator-id-11\" type=\"checkbox\" ><label for=\"sk-estimator-id-11\" class=\"sk-toggleable__label sk-toggleable__label-arrow\">estimator: GradientBoostingClassifier</label><div class=\"sk-toggleable__content\"><pre>GradientBoostingClassifier()</pre></div></div></div><div class=\"sk-serial\"><div class=\"sk-item\"><div class=\"sk-estimator sk-toggleable\"><input class=\"sk-toggleable__control sk-hidden--visually\" id=\"sk-estimator-id-12\" type=\"checkbox\" ><label for=\"sk-estimator-id-12\" class=\"sk-toggleable__label sk-toggleable__label-arrow\">GradientBoostingClassifier</label><div class=\"sk-toggleable__content\"><pre>GradientBoostingClassifier()</pre></div></div></div></div></div></div></div></div></div></div>"
            ],
            "text/plain": [
              "GridSearchCV(estimator=GradientBoostingClassifier(), n_jobs=-1,\n",
              "             param_grid={'criterion': ['friedman_mse', 'squared_error'],\n",
              "                         'learning_rate': [0.1, 0.2, 0.3, 0.4, 0.5],\n",
              "                         'loss': ['log_loss', 'deviance', 'exponential'],\n",
              "                         'max_features': ['auto', 'sqrt', 'log2'],\n",
              "                         'n_estimators': [1, 2, 3, 4, 5]})"
            ]
          },
          "execution_count": 36,
          "metadata": {},
          "output_type": "execute_result"
        }
      ],
      "source": [
        "grid = GridSearchCV(GradientBoostingClassifier(), param_grid=params, n_jobs = -1)\n",
        "\n",
        "grid.fit(x_train,y_train)"
      ]
    },
    {
      "cell_type": "code",
      "execution_count": 37,
      "metadata": {
        "colab": {
          "base_uri": "https://localhost:8080/"
        },
        "id": "dUhMKoPYj_-G",
        "outputId": "ce87b4fe-b713-4c53-e7ab-0912e4780a30"
      },
      "outputs": [
        {
          "data": {
            "text/plain": [
              "{'criterion': 'friedman_mse',\n",
              " 'learning_rate': 0.2,\n",
              " 'loss': 'log_loss',\n",
              " 'max_features': 'log2',\n",
              " 'n_estimators': 2}"
            ]
          },
          "execution_count": 37,
          "metadata": {},
          "output_type": "execute_result"
        }
      ],
      "source": [
        "grid.best_params_"
      ]
    },
    {
      "cell_type": "code",
      "execution_count": 38,
      "metadata": {
        "colab": {
          "base_uri": "https://localhost:8080/"
        },
        "id": "bQEawFLVj_-H",
        "outputId": "cf396afb-0323-478d-800a-64bb20f0319b"
      },
      "outputs": [
        {
          "name": "stdout",
          "output_type": "stream",
          "text": [
            "Creating Model With AdaBoostClassifier(estimator=GradientBoostingClassifier(learning_rate=0.2,\n",
            "                                                        max_features='log2',\n",
            "                                                        n_estimators=2),\n",
            "                   learning_rate=1.5, n_estimators=100)\n",
            "Training Accuracy of are Model is : 1.0%\n",
            "Testing Accuracy of are Model is : 1.0%\n",
            "              precision    recall  f1-score   support\n",
            "\n",
            "           0       1.00      1.00      1.00      2871\n",
            "           1       1.00      0.80      0.89        15\n",
            "\n",
            "    accuracy                           1.00      2886\n",
            "   macro avg       1.00      0.90      0.94      2886\n",
            "weighted avg       1.00      1.00      1.00      2886\n",
            "\n"
          ]
        }
      ],
      "source": [
        "predict(AdaBoostClassifier(GradientBoostingClassifier(criterion = 'friedman_mse', n_estimators=2, learning_rate = 0.2, loss='log_loss',max_features='log2'),\n",
        "                           learning_rate= 1.5, n_estimators=100))"
      ]
    },
    {
      "cell_type": "markdown",
      "metadata": {
        "id": "X75GZUDwj_-H"
      },
      "source": [
        "#### Tuning Random Forest Classifier With Bagging Classifier"
      ]
    },
    {
      "cell_type": "code",
      "execution_count": 10,
      "metadata": {},
      "outputs": [],
      "source": [
        "params = {\n",
        "    'criterion': ['gini', 'entropy', 'log_loss'],\n",
        "    'n_estimators' : [10,20,30,40,50],\n",
        "    'max_depth': [2,3,4,5],\n",
        "    'min_samples_split': [2,3,4,5],\n",
        "    'min_samples_leaf': [1,2,3,4,5],\n",
        "    'min_weight_fraction_leaf': [0,1,2,3,4,5],\n",
        "    'max_features': ['sqrt', 'log2']\n",
        "    }"
      ]
    },
    {
      "cell_type": "code",
      "execution_count": 11,
      "metadata": {
        "id": "uv_EJuMdj_-I"
      },
      "outputs": [
        {
          "data": {
            "text/html": [
              "<style>#sk-container-id-1 {color: black;}#sk-container-id-1 pre{padding: 0;}#sk-container-id-1 div.sk-toggleable {background-color: white;}#sk-container-id-1 label.sk-toggleable__label {cursor: pointer;display: block;width: 100%;margin-bottom: 0;padding: 0.3em;box-sizing: border-box;text-align: center;}#sk-container-id-1 label.sk-toggleable__label-arrow:before {content: \"▸\";float: left;margin-right: 0.25em;color: #696969;}#sk-container-id-1 label.sk-toggleable__label-arrow:hover:before {color: black;}#sk-container-id-1 div.sk-estimator:hover label.sk-toggleable__label-arrow:before {color: black;}#sk-container-id-1 div.sk-toggleable__content {max-height: 0;max-width: 0;overflow: hidden;text-align: left;background-color: #f0f8ff;}#sk-container-id-1 div.sk-toggleable__content pre {margin: 0.2em;color: black;border-radius: 0.25em;background-color: #f0f8ff;}#sk-container-id-1 input.sk-toggleable__control:checked~div.sk-toggleable__content {max-height: 200px;max-width: 100%;overflow: auto;}#sk-container-id-1 input.sk-toggleable__control:checked~label.sk-toggleable__label-arrow:before {content: \"▾\";}#sk-container-id-1 div.sk-estimator input.sk-toggleable__control:checked~label.sk-toggleable__label {background-color: #d4ebff;}#sk-container-id-1 div.sk-label input.sk-toggleable__control:checked~label.sk-toggleable__label {background-color: #d4ebff;}#sk-container-id-1 input.sk-hidden--visually {border: 0;clip: rect(1px 1px 1px 1px);clip: rect(1px, 1px, 1px, 1px);height: 1px;margin: -1px;overflow: hidden;padding: 0;position: absolute;width: 1px;}#sk-container-id-1 div.sk-estimator {font-family: monospace;background-color: #f0f8ff;border: 1px dotted black;border-radius: 0.25em;box-sizing: border-box;margin-bottom: 0.5em;}#sk-container-id-1 div.sk-estimator:hover {background-color: #d4ebff;}#sk-container-id-1 div.sk-parallel-item::after {content: \"\";width: 100%;border-bottom: 1px solid gray;flex-grow: 1;}#sk-container-id-1 div.sk-label:hover label.sk-toggleable__label {background-color: #d4ebff;}#sk-container-id-1 div.sk-serial::before {content: \"\";position: absolute;border-left: 1px solid gray;box-sizing: border-box;top: 0;bottom: 0;left: 50%;z-index: 0;}#sk-container-id-1 div.sk-serial {display: flex;flex-direction: column;align-items: center;background-color: white;padding-right: 0.2em;padding-left: 0.2em;position: relative;}#sk-container-id-1 div.sk-item {position: relative;z-index: 1;}#sk-container-id-1 div.sk-parallel {display: flex;align-items: stretch;justify-content: center;background-color: white;position: relative;}#sk-container-id-1 div.sk-item::before, #sk-container-id-1 div.sk-parallel-item::before {content: \"\";position: absolute;border-left: 1px solid gray;box-sizing: border-box;top: 0;bottom: 0;left: 50%;z-index: -1;}#sk-container-id-1 div.sk-parallel-item {display: flex;flex-direction: column;z-index: 1;position: relative;background-color: white;}#sk-container-id-1 div.sk-parallel-item:first-child::after {align-self: flex-end;width: 50%;}#sk-container-id-1 div.sk-parallel-item:last-child::after {align-self: flex-start;width: 50%;}#sk-container-id-1 div.sk-parallel-item:only-child::after {width: 0;}#sk-container-id-1 div.sk-dashed-wrapped {border: 1px dashed gray;margin: 0 0.4em 0.5em 0.4em;box-sizing: border-box;padding-bottom: 0.4em;background-color: white;}#sk-container-id-1 div.sk-label label {font-family: monospace;font-weight: bold;display: inline-block;line-height: 1.2em;}#sk-container-id-1 div.sk-label-container {text-align: center;}#sk-container-id-1 div.sk-container {/* jupyter's `normalize.less` sets `[hidden] { display: none; }` but bootstrap.min.css set `[hidden] { display: none !important; }` so we also need the `!important` here to be able to override the default hidden behavior on the sphinx rendered scikit-learn.org. See: https://github.com/scikit-learn/scikit-learn/issues/21755 */display: inline-block !important;position: relative;}#sk-container-id-1 div.sk-text-repr-fallback {display: none;}</style><div id=\"sk-container-id-1\" class=\"sk-top-container\"><div class=\"sk-text-repr-fallback\"><pre>GridSearchCV(estimator=RandomForestClassifier(), n_jobs=-1,\n",
              "             param_grid={&#x27;criterion&#x27;: [&#x27;gini&#x27;, &#x27;entropy&#x27;, &#x27;log_loss&#x27;],\n",
              "                         &#x27;max_depth&#x27;: [2, 3, 4, 5],\n",
              "                         &#x27;max_features&#x27;: [&#x27;sqrt&#x27;, &#x27;log2&#x27;],\n",
              "                         &#x27;min_samples_leaf&#x27;: [1, 2, 3, 4, 5],\n",
              "                         &#x27;min_samples_split&#x27;: [2, 3, 4, 5],\n",
              "                         &#x27;min_weight_fraction_leaf&#x27;: [0, 1, 2, 3, 4, 5],\n",
              "                         &#x27;n_estimators&#x27;: [10, 20, 30, 40, 50]})</pre><b>In a Jupyter environment, please rerun this cell to show the HTML representation or trust the notebook. <br />On GitHub, the HTML representation is unable to render, please try loading this page with nbviewer.org.</b></div><div class=\"sk-container\" hidden><div class=\"sk-item sk-dashed-wrapped\"><div class=\"sk-label-container\"><div class=\"sk-label sk-toggleable\"><input class=\"sk-toggleable__control sk-hidden--visually\" id=\"sk-estimator-id-1\" type=\"checkbox\" ><label for=\"sk-estimator-id-1\" class=\"sk-toggleable__label sk-toggleable__label-arrow\">GridSearchCV</label><div class=\"sk-toggleable__content\"><pre>GridSearchCV(estimator=RandomForestClassifier(), n_jobs=-1,\n",
              "             param_grid={&#x27;criterion&#x27;: [&#x27;gini&#x27;, &#x27;entropy&#x27;, &#x27;log_loss&#x27;],\n",
              "                         &#x27;max_depth&#x27;: [2, 3, 4, 5],\n",
              "                         &#x27;max_features&#x27;: [&#x27;sqrt&#x27;, &#x27;log2&#x27;],\n",
              "                         &#x27;min_samples_leaf&#x27;: [1, 2, 3, 4, 5],\n",
              "                         &#x27;min_samples_split&#x27;: [2, 3, 4, 5],\n",
              "                         &#x27;min_weight_fraction_leaf&#x27;: [0, 1, 2, 3, 4, 5],\n",
              "                         &#x27;n_estimators&#x27;: [10, 20, 30, 40, 50]})</pre></div></div></div><div class=\"sk-parallel\"><div class=\"sk-parallel-item\"><div class=\"sk-item\"><div class=\"sk-label-container\"><div class=\"sk-label sk-toggleable\"><input class=\"sk-toggleable__control sk-hidden--visually\" id=\"sk-estimator-id-2\" type=\"checkbox\" ><label for=\"sk-estimator-id-2\" class=\"sk-toggleable__label sk-toggleable__label-arrow\">estimator: RandomForestClassifier</label><div class=\"sk-toggleable__content\"><pre>RandomForestClassifier()</pre></div></div></div><div class=\"sk-serial\"><div class=\"sk-item\"><div class=\"sk-estimator sk-toggleable\"><input class=\"sk-toggleable__control sk-hidden--visually\" id=\"sk-estimator-id-3\" type=\"checkbox\" ><label for=\"sk-estimator-id-3\" class=\"sk-toggleable__label sk-toggleable__label-arrow\">RandomForestClassifier</label><div class=\"sk-toggleable__content\"><pre>RandomForestClassifier()</pre></div></div></div></div></div></div></div></div></div></div>"
            ],
            "text/plain": [
              "GridSearchCV(estimator=RandomForestClassifier(), n_jobs=-1,\n",
              "             param_grid={'criterion': ['gini', 'entropy', 'log_loss'],\n",
              "                         'max_depth': [2, 3, 4, 5],\n",
              "                         'max_features': ['sqrt', 'log2'],\n",
              "                         'min_samples_leaf': [1, 2, 3, 4, 5],\n",
              "                         'min_samples_split': [2, 3, 4, 5],\n",
              "                         'min_weight_fraction_leaf': [0, 1, 2, 3, 4, 5],\n",
              "                         'n_estimators': [10, 20, 30, 40, 50]})"
            ]
          },
          "execution_count": 11,
          "metadata": {},
          "output_type": "execute_result"
        }
      ],
      "source": [
        "grid = GridSearchCV((RandomForestClassifier()), param_grid=params, n_jobs= -1)\n",
        "\n",
        "grid.fit(x_train,y_train)"
      ]
    },
    {
      "cell_type": "code",
      "execution_count": 12,
      "metadata": {
        "id": "ZEClX3G1j_-I",
        "outputId": "b2ea1d32-5f16-4875-e2a2-e2da57af2cb1"
      },
      "outputs": [
        {
          "data": {
            "text/plain": [
              "{'criterion': 'gini',\n",
              " 'max_depth': 5,\n",
              " 'max_features': 'log2',\n",
              " 'min_samples_leaf': 1,\n",
              " 'min_samples_split': 4,\n",
              " 'min_weight_fraction_leaf': 0,\n",
              " 'n_estimators': 10}"
            ]
          },
          "execution_count": 12,
          "metadata": {},
          "output_type": "execute_result"
        }
      ],
      "source": [
        "grid.best_params_"
      ]
    },
    {
      "cell_type": "code",
      "execution_count": 13,
      "metadata": {
        "id": "qrLIQ1WFj_-N",
        "outputId": "12ebceec-c5c1-404f-d81e-e048cebb374e"
      },
      "outputs": [
        {
          "name": "stdout",
          "output_type": "stream",
          "text": [
            "Creating Model With RandomForestClassifier(max_depth=5, max_features='log2', min_samples_split=4,\n",
            "                       min_weight_fraction_leaf=0, n_estimators=10)\n",
            "Training Accuracy of are Model is : 1.0%\n",
            "Testing Accuracy of are Model is : 1.0%\n",
            "              precision    recall  f1-score   support\n",
            "\n",
            "           0       1.00      1.00      1.00      2871\n",
            "           1       1.00      0.80      0.89        15\n",
            "\n",
            "    accuracy                           1.00      2886\n",
            "   macro avg       1.00      0.90      0.94      2886\n",
            "weighted avg       1.00      1.00      1.00      2886\n",
            "\n"
          ]
        }
      ],
      "source": [
        "predict(RandomForestClassifier( criterion = 'gini',  max_depth = 5,  max_features = 'log2',  min_samples_leaf = 1,\n",
        "                                min_samples_split = 4,  min_weight_fraction_leaf = 0,  n_estimators= 10))"
      ]
    },
    {
      "cell_type": "markdown",
      "metadata": {
        "id": "8RZHoWgJj_-N"
      },
      "source": [
        "#### Tuning Logistic Regression With AdaBoost Classifier"
      ]
    },
    {
      "cell_type": "code",
      "execution_count": 14,
      "metadata": {
        "id": "7NU-BR4Qj_-N",
        "outputId": "7809fed0-b47a-4962-a3d7-1f7838c63095"
      },
      "outputs": [
        {
          "name": "stdout",
          "output_type": "stream",
          "text": [
            "Creating Model With AdaBoostClassifier(estimator=LogisticRegression())\n",
            "Training Accuracy of are Model is : 1.0%\n",
            "Testing Accuracy of are Model is : 1.0%\n",
            "              precision    recall  f1-score   support\n",
            "\n",
            "           0       1.00      1.00      1.00      2871\n",
            "           1       0.80      0.53      0.64        15\n",
            "\n",
            "    accuracy                           1.00      2886\n",
            "   macro avg       0.90      0.77      0.82      2886\n",
            "weighted avg       1.00      1.00      1.00      2886\n",
            "\n"
          ]
        }
      ],
      "source": [
        "predict(AdaBoostClassifier(LogisticRegression()))"
      ]
    },
    {
      "cell_type": "markdown",
      "metadata": {
        "id": "byagmi38j_-N"
      },
      "source": [
        "#### Tuning KNeighborsClassifier With Bagging Classifier"
      ]
    },
    {
      "cell_type": "code",
      "execution_count": 15,
      "metadata": {
        "id": "vXFKdDtkj_-N",
        "outputId": "5064cc91-edce-48e3-eb89-d2f13f997715"
      },
      "outputs": [
        {
          "data": {
            "image/png": "[encoded data removed]",
            "text/plain": [
              "<Figure size 3750x2000 with 1 Axes>"
            ]
          },
          "metadata": {},
          "output_type": "display_data"
        }
      ],
      "source": [
        "trainac = []\n",
        "testac = []\n",
        "\n",
        "for i in range(1,11):\n",
        "    knn = BaggingClassifier(KNeighborsClassifier(n_neighbors=i),n_estimators = 10)\n",
        "    knn.fit(x_train,y_train)\n",
        "    ypred = knn.predict(x_test)\n",
        "\n",
        "    trainac.append(knn.score(x_train,y_train))\n",
        "    testac.append(knn.score(x_test,y_test))\n",
        "\n",
        "plt.title('')\n",
        "plt.plot(range(1,11),trainac)\n",
        "plt.plot(range(1,11), testac)\n",
        "plt.xlabel('Number of K')\n",
        "plt.ylabel('Accuracy')\n",
        "plt.grid()"
      ]
    },
    {
      "cell_type": "code",
      "execution_count": 16,
      "metadata": {
        "id": "7KU2l5Dej_-O",
        "outputId": "9a8b7d6f-4114-499e-f09c-fcc8bdb9cc8e"
      },
      "outputs": [
        {
          "name": "stdout",
          "output_type": "stream",
          "text": [
            "Creating Model With KNeighborsClassifier(n_neighbors=4)\n",
            "Training Accuracy of are Model is : 1.0%\n",
            "Testing Accuracy of are Model is : 1.0%\n",
            "              precision    recall  f1-score   support\n",
            "\n",
            "           0       1.00      1.00      1.00      2871\n",
            "           1       1.00      0.53      0.70        15\n",
            "\n",
            "    accuracy                           1.00      2886\n",
            "   macro avg       1.00      0.77      0.85      2886\n",
            "weighted avg       1.00      1.00      1.00      2886\n",
            "\n"
          ]
        }
      ],
      "source": [
        "predict(KNeighborsClassifier(n_neighbors=4))"
      ]
    },
    {
      "cell_type": "markdown",
      "metadata": {
        "id": "woLjG0z2j_-O"
      },
      "source": [
        "#### Tuning SVC"
      ]
    },
    {
      "cell_type": "code",
      "execution_count": 17,
      "metadata": {
        "id": "F5B237f3j_-O"
      },
      "outputs": [],
      "source": [
        "params = {\n",
        "    'kernel' : ['poly','rbf','linear','sigmoid'],\n",
        "    'C' : [0.1,0.001,0.0001,1,10],\n",
        "    'gamma' : [0.1,0.001,1,10]\n",
        "}"
      ]
    },
    {
      "cell_type": "code",
      "execution_count": 18,
      "metadata": {
        "id": "Rn1kpr6Nj_-O",
        "outputId": "b1c866f7-35bd-4c44-9ef9-de93d692093e"
      },
      "outputs": [
        {
          "name": "stdout",
          "output_type": "stream",
          "text": [
            "Fitting 5 folds for each of 80 candidates, totalling 400 fits\n"
          ]
        },
        {
          "data": {
            "text/html": [
              "<style>#sk-container-id-2 {color: black;}#sk-container-id-2 pre{padding: 0;}#sk-container-id-2 div.sk-toggleable {background-color: white;}#sk-container-id-2 label.sk-toggleable__label {cursor: pointer;display: block;width: 100%;margin-bottom: 0;padding: 0.3em;box-sizing: border-box;text-align: center;}#sk-container-id-2 label.sk-toggleable__label-arrow:before {content: \"▸\";float: left;margin-right: 0.25em;color: #696969;}#sk-container-id-2 label.sk-toggleable__label-arrow:hover:before {color: black;}#sk-container-id-2 div.sk-estimator:hover label.sk-toggleable__label-arrow:before {color: black;}#sk-container-id-2 div.sk-toggleable__content {max-height: 0;max-width: 0;overflow: hidden;text-align: left;background-color: #f0f8ff;}#sk-container-id-2 div.sk-toggleable__content pre {margin: 0.2em;color: black;border-radius: 0.25em;background-color: #f0f8ff;}#sk-container-id-2 input.sk-toggleable__control:checked~div.sk-toggleable__content {max-height: 200px;max-width: 100%;overflow: auto;}#sk-container-id-2 input.sk-toggleable__control:checked~label.sk-toggleable__label-arrow:before {content: \"▾\";}#sk-container-id-2 div.sk-estimator input.sk-toggleable__control:checked~label.sk-toggleable__label {background-color: #d4ebff;}#sk-container-id-2 div.sk-label input.sk-toggleable__control:checked~label.sk-toggleable__label {background-color: #d4ebff;}#sk-container-id-2 input.sk-hidden--visually {border: 0;clip: rect(1px 1px 1px 1px);clip: rect(1px, 1px, 1px, 1px);height: 1px;margin: -1px;overflow: hidden;padding: 0;position: absolute;width: 1px;}#sk-container-id-2 div.sk-estimator {font-family: monospace;background-color: #f0f8ff;border: 1px dotted black;border-radius: 0.25em;box-sizing: border-box;margin-bottom: 0.5em;}#sk-container-id-2 div.sk-estimator:hover {background-color: #d4ebff;}#sk-container-id-2 div.sk-parallel-item::after {content: \"\";width: 100%;border-bottom: 1px solid gray;flex-grow: 1;}#sk-container-id-2 div.sk-label:hover label.sk-toggleable__label {background-color: #d4ebff;}#sk-container-id-2 div.sk-serial::before {content: \"\";position: absolute;border-left: 1px solid gray;box-sizing: border-box;top: 0;bottom: 0;left: 50%;z-index: 0;}#sk-container-id-2 div.sk-serial {display: flex;flex-direction: column;align-items: center;background-color: white;padding-right: 0.2em;padding-left: 0.2em;position: relative;}#sk-container-id-2 div.sk-item {position: relative;z-index: 1;}#sk-container-id-2 div.sk-parallel {display: flex;align-items: stretch;justify-content: center;background-color: white;position: relative;}#sk-container-id-2 div.sk-item::before, #sk-container-id-2 div.sk-parallel-item::before {content: \"\";position: absolute;border-left: 1px solid gray;box-sizing: border-box;top: 0;bottom: 0;left: 50%;z-index: -1;}#sk-container-id-2 div.sk-parallel-item {display: flex;flex-direction: column;z-index: 1;position: relative;background-color: white;}#sk-container-id-2 div.sk-parallel-item:first-child::after {align-self: flex-end;width: 50%;}#sk-container-id-2 div.sk-parallel-item:last-child::after {align-self: flex-start;width: 50%;}#sk-container-id-2 div.sk-parallel-item:only-child::after {width: 0;}#sk-container-id-2 div.sk-dashed-wrapped {border: 1px dashed gray;margin: 0 0.4em 0.5em 0.4em;box-sizing: border-box;padding-bottom: 0.4em;background-color: white;}#sk-container-id-2 div.sk-label label {font-family: monospace;font-weight: bold;display: inline-block;line-height: 1.2em;}#sk-container-id-2 div.sk-label-container {text-align: center;}#sk-container-id-2 div.sk-container {/* jupyter's `normalize.less` sets `[hidden] { display: none; }` but bootstrap.min.css set `[hidden] { display: none !important; }` so we also need the `!important` here to be able to override the default hidden behavior on the sphinx rendered scikit-learn.org. See: https://github.com/scikit-learn/scikit-learn/issues/21755 */display: inline-block !important;position: relative;}#sk-container-id-2 div.sk-text-repr-fallback {display: none;}</style><div id=\"sk-container-id-2\" class=\"sk-top-container\"><div class=\"sk-text-repr-fallback\"><pre>GridSearchCV(estimator=SVC(), n_jobs=-1,\n",
              "             param_grid={&#x27;C&#x27;: [0.1, 0.001, 0.0001, 1, 10],\n",
              "                         &#x27;gamma&#x27;: [0.1, 0.001, 1, 10],\n",
              "                         &#x27;kernel&#x27;: [&#x27;poly&#x27;, &#x27;rbf&#x27;, &#x27;linear&#x27;, &#x27;sigmoid&#x27;]},\n",
              "             verbose=1)</pre><b>In a Jupyter environment, please rerun this cell to show the HTML representation or trust the notebook. <br />On GitHub, the HTML representation is unable to render, please try loading this page with nbviewer.org.</b></div><div class=\"sk-container\" hidden><div class=\"sk-item sk-dashed-wrapped\"><div class=\"sk-label-container\"><div class=\"sk-label sk-toggleable\"><input class=\"sk-toggleable__control sk-hidden--visually\" id=\"sk-estimator-id-4\" type=\"checkbox\" ><label for=\"sk-estimator-id-4\" class=\"sk-toggleable__label sk-toggleable__label-arrow\">GridSearchCV</label><div class=\"sk-toggleable__content\"><pre>GridSearchCV(estimator=SVC(), n_jobs=-1,\n",
              "             param_grid={&#x27;C&#x27;: [0.1, 0.001, 0.0001, 1, 10],\n",
              "                         &#x27;gamma&#x27;: [0.1, 0.001, 1, 10],\n",
              "                         &#x27;kernel&#x27;: [&#x27;poly&#x27;, &#x27;rbf&#x27;, &#x27;linear&#x27;, &#x27;sigmoid&#x27;]},\n",
              "             verbose=1)</pre></div></div></div><div class=\"sk-parallel\"><div class=\"sk-parallel-item\"><div class=\"sk-item\"><div class=\"sk-label-container\"><div class=\"sk-label sk-toggleable\"><input class=\"sk-toggleable__control sk-hidden--visually\" id=\"sk-estimator-id-5\" type=\"checkbox\" ><label for=\"sk-estimator-id-5\" class=\"sk-toggleable__label sk-toggleable__label-arrow\">estimator: SVC</label><div class=\"sk-toggleable__content\"><pre>SVC()</pre></div></div></div><div class=\"sk-serial\"><div class=\"sk-item\"><div class=\"sk-estimator sk-toggleable\"><input class=\"sk-toggleable__control sk-hidden--visually\" id=\"sk-estimator-id-6\" type=\"checkbox\" ><label for=\"sk-estimator-id-6\" class=\"sk-toggleable__label sk-toggleable__label-arrow\">SVC</label><div class=\"sk-toggleable__content\"><pre>SVC()</pre></div></div></div></div></div></div></div></div></div></div>"
            ],
            "text/plain": [
              "GridSearchCV(estimator=SVC(), n_jobs=-1,\n",
              "             param_grid={'C': [0.1, 0.001, 0.0001, 1, 10],\n",
              "                         'gamma': [0.1, 0.001, 1, 10],\n",
              "                         'kernel': ['poly', 'rbf', 'linear', 'sigmoid']},\n",
              "             verbose=1)"
            ]
          },
          "execution_count": 18,
          "metadata": {},
          "output_type": "execute_result"
        }
      ],
      "source": [
        "grid = GridSearchCV(SVC(), param_grid=params, verbose=1, n_jobs=-1)\n",
        "\n",
        "grid.fit(x_train,y_train)"
      ]
    },
    {
      "cell_type": "code",
      "execution_count": 21,
      "metadata": {
        "id": "7P4CL3Baj_-O",
        "outputId": "0ac96b38-3c09-454e-cc84-0ba9213f0026"
      },
      "outputs": [
        {
          "data": {
            "text/plain": [
              "{'C': 10, 'gamma': 0.001, 'kernel': 'rbf'}"
            ]
          },
          "execution_count": 21,
          "metadata": {},
          "output_type": "execute_result"
        }
      ],
      "source": [
        "grid.best_params_"
      ]
    },
    {
      "cell_type": "code",
      "execution_count": 22,
      "metadata": {
        "id": "UOSUxTzCj_-O",
        "outputId": "d113058e-ab46-4273-9b82-2839f8c05b03"
      },
      "outputs": [
        {
          "name": "stdout",
          "output_type": "stream",
          "text": [
            "Creating Model With SVC()\n",
            "Training Accuracy of are Model is : 1.0%\n",
            "Testing Accuracy of are Model is : 1.0%\n",
            "              precision    recall  f1-score   support\n",
            "\n",
            "           0       1.00      1.00      1.00      2871\n",
            "           1       1.00      0.40      0.57        15\n",
            "\n",
            "    accuracy                           1.00      2886\n",
            "   macro avg       1.00      0.70      0.78      2886\n",
            "weighted avg       1.00      1.00      1.00      2886\n",
            "\n"
          ]
        }
      ],
      "source": [
        "predict(SVC())"
      ]
    },
    {
      "cell_type": "markdown",
      "metadata": {
        "id": "nyhptT8Hj_-Q"
      },
      "source": [
        "### Creating Final Model With Hyperparameter Value"
      ]
    },
    {
      "cell_type": "code",
      "execution_count": 21,
      "metadata": {
        "id": "X-owlaO5j_-Q"
      },
      "outputs": [
        {
          "data": {
            "text/html": [
              "<style>#sk-container-id-1 {color: black;}#sk-container-id-1 pre{padding: 0;}#sk-container-id-1 div.sk-toggleable {background-color: white;}#sk-container-id-1 label.sk-toggleable__label {cursor: pointer;display: block;width: 100%;margin-bottom: 0;padding: 0.3em;box-sizing: border-box;text-align: center;}#sk-container-id-1 label.sk-toggleable__label-arrow:before {content: \"▸\";float: left;margin-right: 0.25em;color: #696969;}#sk-container-id-1 label.sk-toggleable__label-arrow:hover:before {color: black;}#sk-container-id-1 div.sk-estimator:hover label.sk-toggleable__label-arrow:before {color: black;}#sk-container-id-1 div.sk-toggleable__content {max-height: 0;max-width: 0;overflow: hidden;text-align: left;background-color: #f0f8ff;}#sk-container-id-1 div.sk-toggleable__content pre {margin: 0.2em;color: black;border-radius: 0.25em;background-color: #f0f8ff;}#sk-container-id-1 input.sk-toggleable__control:checked~div.sk-toggleable__content {max-height: 200px;max-width: 100%;overflow: auto;}#sk-container-id-1 input.sk-toggleable__control:checked~label.sk-toggleable__label-arrow:before {content: \"▾\";}#sk-container-id-1 div.sk-estimator input.sk-toggleable__control:checked~label.sk-toggleable__label {background-color: #d4ebff;}#sk-container-id-1 div.sk-label input.sk-toggleable__control:checked~label.sk-toggleable__label {background-color: #d4ebff;}#sk-container-id-1 input.sk-hidden--visually {border: 0;clip: rect(1px 1px 1px 1px);clip: rect(1px, 1px, 1px, 1px);height: 1px;margin: -1px;overflow: hidden;padding: 0;position: absolute;width: 1px;}#sk-container-id-1 div.sk-estimator {font-family: monospace;background-color: #f0f8ff;border: 1px dotted black;border-radius: 0.25em;box-sizing: border-box;margin-bottom: 0.5em;}#sk-container-id-1 div.sk-estimator:hover {background-color: #d4ebff;}#sk-container-id-1 div.sk-parallel-item::after {content: \"\";width: 100%;border-bottom: 1px solid gray;flex-grow: 1;}#sk-container-id-1 div.sk-label:hover label.sk-toggleable__label {background-color: #d4ebff;}#sk-container-id-1 div.sk-serial::before {content: \"\";position: absolute;border-left: 1px solid gray;box-sizing: border-box;top: 0;bottom: 0;left: 50%;z-index: 0;}#sk-container-id-1 div.sk-serial {display: flex;flex-direction: column;align-items: center;background-color: white;padding-right: 0.2em;padding-left: 0.2em;position: relative;}#sk-container-id-1 div.sk-item {position: relative;z-index: 1;}#sk-container-id-1 div.sk-parallel {display: flex;align-items: stretch;justify-content: center;background-color: white;position: relative;}#sk-container-id-1 div.sk-item::before, #sk-container-id-1 div.sk-parallel-item::before {content: \"\";position: absolute;border-left: 1px solid gray;box-sizing: border-box;top: 0;bottom: 0;left: 50%;z-index: -1;}#sk-container-id-1 div.sk-parallel-item {display: flex;flex-direction: column;z-index: 1;position: relative;background-color: white;}#sk-container-id-1 div.sk-parallel-item:first-child::after {align-self: flex-end;width: 50%;}#sk-container-id-1 div.sk-parallel-item:last-child::after {align-self: flex-start;width: 50%;}#sk-container-id-1 div.sk-parallel-item:only-child::after {width: 0;}#sk-container-id-1 div.sk-dashed-wrapped {border: 1px dashed gray;margin: 0 0.4em 0.5em 0.4em;box-sizing: border-box;padding-bottom: 0.4em;background-color: white;}#sk-container-id-1 div.sk-label label {font-family: monospace;font-weight: bold;display: inline-block;line-height: 1.2em;}#sk-container-id-1 div.sk-label-container {text-align: center;}#sk-container-id-1 div.sk-container {/* jupyter's `normalize.less` sets `[hidden] { display: none; }` but bootstrap.min.css set `[hidden] { display: none !important; }` so we also need the `!important` here to be able to override the default hidden behavior on the sphinx rendered scikit-learn.org. See: https://github.com/scikit-learn/scikit-learn/issues/21755 */display: inline-block !important;position: relative;}#sk-container-id-1 div.sk-text-repr-fallback {display: none;}</style><div id=\"sk-container-id-1\" class=\"sk-top-container\"><div class=\"sk-text-repr-fallback\"><pre>RandomForestClassifier(max_depth=5, max_features=&#x27;log2&#x27;, min_samples_split=4,\n",
              "                       min_weight_fraction_leaf=0, n_estimators=10)</pre><b>In a Jupyter environment, please rerun this cell to show the HTML representation or trust the notebook. <br />On GitHub, the HTML representation is unable to render, please try loading this page with nbviewer.org.</b></div><div class=\"sk-container\" hidden><div class=\"sk-item\"><div class=\"sk-estimator sk-toggleable\"><input class=\"sk-toggleable__control sk-hidden--visually\" id=\"sk-estimator-id-1\" type=\"checkbox\" checked><label for=\"sk-estimator-id-1\" class=\"sk-toggleable__label sk-toggleable__label-arrow\">RandomForestClassifier</label><div class=\"sk-toggleable__content\"><pre>RandomForestClassifier(max_depth=5, max_features=&#x27;log2&#x27;, min_samples_split=4,\n",
              "                       min_weight_fraction_leaf=0, n_estimators=10)</pre></div></div></div></div></div>"
            ],
            "text/plain": [
              "RandomForestClassifier(max_depth=5, max_features='log2', min_samples_split=4,\n",
              "                       min_weight_fraction_leaf=0, n_estimators=10)"
            ]
          },
          "execution_count": 21,
          "metadata": {},
          "output_type": "execute_result"
        }
      ],
      "source": [
        "final_model = RandomForestClassifier( criterion = 'gini',  max_depth = 5,  max_features = 'log2',  min_samples_leaf = 1,\n",
        "                                min_samples_split = 4,  min_weight_fraction_leaf = 0,  n_estimators= 10)\n",
        "\n",
        "final_model.fit(x_train,y_train)"
      ]
    },
    {
      "cell_type": "markdown",
      "metadata": {
        "id": "S3wbUWb6j_-Q"
      },
      "source": [
        "##### Comparing Training And Testing Accuracy"
      ]
    },
    {
      "cell_type": "code",
      "execution_count": 22,
      "metadata": {
        "id": "y0EmIspuj_-R",
        "outputId": "327a9296-6a37-40b2-eb76-af07f6a6312f"
      },
      "outputs": [
        {
          "name": "stdout",
          "output_type": "stream",
          "text": [
            "Training Accuracy of are Model is : 1.0 %\n",
            "Testing Accuracy of are Model is : 1.0 %\n"
          ]
        }
      ],
      "source": [
        "print('Training Accuracy of are Model is : ' + str(round(final_model.score(x_train,y_train),2))+' %')\n",
        "print('Testing Accuracy of are Model is : ' + str(round(final_model.score(x_test, y_test),2))+' %')"
      ]
    },
    {
      "cell_type": "markdown",
      "metadata": {
        "id": "1Oxe35Y6j_-R"
      },
      "source": [
        "## Creating Model"
      ]
    },
    {
      "cell_type": "code",
      "execution_count": null,
      "metadata": {
        "id": "Tr2dWRHzj_-R"
      },
      "outputs": [],
      "source": [
        "pickle.dump(final_model, open('model.pkl','wb'))"
      ]
    }
  ],
  "metadata": {
    "colab": {
      "provenance": []
    },
    "kernelspec": {
      "display_name": "base",
      "language": "python",
      "name": "python3"
    },
    "language_info": {
      "codemirror_mode": {
        "name": "ipython",
        "version": 3
      },
      "file_extension": ".py",
      "mimetype": "text/x-python",
      "name": "python",
      "nbconvert_exporter": "python",
      "pygments_lexer": "ipython3",
      "version": "3.11.5"
    },
    "orig_nbformat": 4
  },
  "nbformat": 4,
  "nbformat_minor": 0
}
